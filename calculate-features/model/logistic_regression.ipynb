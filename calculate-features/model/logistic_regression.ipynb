{
 "cells": [
  {
   "cell_type": "code",
   "execution_count": 47,
   "metadata": {},
   "outputs": [],
   "source": [
    "import json\n",
    "import numpy as np\n",
    "# from sklearn.linear_model import LogisticRegression\n",
    "import csv\n",
    "import pandas as pd\n",
    "from function import normalize\n",
    "# from scipy.optimize import minimize"
   ]
  },
  {
   "cell_type": "code",
   "execution_count": 48,
   "metadata": {},
   "outputs": [],
   "source": [
    "def transform_x52(value):\n",
    "    return -value\n",
    "\n"
   ]
  },
  {
   "cell_type": "code",
   "execution_count": 49,
   "metadata": {},
   "outputs": [],
   "source": [
    "df = pd.read_csv(f'../new_export.csv')\n",
    "# Áp dụng hàm biến đổi cho cột x52\n",
    "df['x52'] = df['x52'].apply(transform_x52)\n",
    "X = df[['x11', 'x12', 'x21', 'x22', 'x23', 'x24', 'x31', 'x32', 'x41', 'x42', 'x43', 'x51', 'x52', 'x61', 'x71', 'x72']].values\n",
    "y = df['label'].values\n",
    "\n",
    "Y = np.array([[y[i]/1.0] for i in range(len(y)) ])"
   ]
  },
  {
   "cell_type": "code",
   "execution_count": 50,
   "metadata": {},
   "outputs": [],
   "source": [
    "# clf = LogisticRegression(multi_class='multinomial', random_state=0)\n",
    "# clf.fit(X, y)\n",
    "# theta = clf.coef_\n",
    "# # theta = theta.reshape(-1, 1)"
   ]
  },
  {
   "cell_type": "code",
   "execution_count": 51,
   "metadata": {},
   "outputs": [],
   "source": [
    "def sigmoid(z): \n",
    "    '''\n",
    "    Input:\n",
    "        z: is the input (can be a scalar or an array)\n",
    "    Output:\n",
    "        h: the sigmoid of z\n",
    "    '''   \n",
    "    # calculate the sigmoid of z\n",
    "    h = 1 / (1 + np.exp(-z))\n",
    "    ### END CODE HERE ###\n",
    "    \n",
    "    return h"
   ]
  },
  {
   "cell_type": "code",
   "execution_count": 52,
   "metadata": {},
   "outputs": [],
   "source": [
    "def gradientDescent(x, y, theta, alpha, num_iters, lambda_reg):\n",
    "    m = x.shape[0]\n",
    "    n = x.shape[1]\n",
    "\n",
    "    for i in range(0, num_iters):\n",
    "        z = np.dot(x, theta)\n",
    "        h = sigmoid(z)\n",
    "        # Calculate the regularized cost function\n",
    "        J = -1.0 / m * (np.dot(y.T, np.log(h)) + np.dot((1 - y).T, np.log(1 - h))) + (lambda_reg / (2 * m)) * np.sum(theta[1:]**2)\n",
    "        # Update the weights theta with regularization\n",
    "        gradient = (1 / m) * np.dot(x.T, (h - y))\n",
    "        regularization_term = (lambda_reg / m) * theta\n",
    "        regularization_term[0] = 0  # Exclude regularization for the bias term\n",
    "        theta = theta - alpha * (gradient + regularization_term)\n",
    "    J = float(J)\n",
    "    return J, theta"
   ]
  },
  {
   "cell_type": "code",
   "execution_count": 53,
   "metadata": {},
   "outputs": [
    {
     "data": {
      "text/plain": [
       "array([[850, 749, 700, ..., 300, 617, 690],\n",
       "       [850, 769, 300, ..., 316, 554, 690],\n",
       "       [850, 752, 300, ..., 850, 556, 690],\n",
       "       ...,\n",
       "       [300, 679, 300, ..., 300, 300, 690],\n",
       "       [300, 691, 300, ..., 300, 300, 690],\n",
       "       [300, 716, 300, ..., 300, 300, 690]])"
      ]
     },
     "execution_count": 53,
     "metadata": {},
     "output_type": "execute_result"
    }
   ],
   "source": [
    "X"
   ]
  },
  {
   "cell_type": "code",
   "execution_count": 54,
   "metadata": {},
   "outputs": [
    {
     "data": {
      "text/plain": [
       "array([[3.],\n",
       "       [3.],\n",
       "       [3.],\n",
       "       ...,\n",
       "       [1.],\n",
       "       [1.],\n",
       "       [1.]])"
      ]
     },
     "execution_count": 54,
     "metadata": {},
     "output_type": "execute_result"
    }
   ],
   "source": [
    "Y"
   ]
  },
  {
   "cell_type": "code",
   "execution_count": 55,
   "metadata": {},
   "outputs": [
    {
     "name": "stderr",
     "output_type": "stream",
     "text": [
      "/tmp/ipykernel_2372386/4152779544.py:9: RuntimeWarning: divide by zero encountered in log\n",
      "  J = -1.0 / m * (np.dot(y.T, np.log(h)) + np.dot((1 - y).T, np.log(1 - h))) + (lambda_reg / (2 * m)) * np.sum(theta[1:]**2)\n"
     ]
    },
    {
     "name": "stderr",
     "output_type": "stream",
     "text": [
      "/tmp/ipykernel_2372386/4152779544.py:15: DeprecationWarning: Conversion of an array with ndim > 0 to a scalar is deprecated, and will error in future. Ensure you extract a single element from your array before performing this operation. (Deprecated NumPy 1.25.)\n",
      "  J = float(J)\n"
     ]
    }
   ],
   "source": [
    "J, theta = gradientDescent(X, Y, np.zeros((16, 1)), 1e-7, 1000, 0.01)"
   ]
  },
  {
   "cell_type": "code",
   "execution_count": 56,
   "metadata": {},
   "outputs": [
    {
     "name": "stdout",
     "output_type": "stream",
     "text": [
      "The cost after training is nan.\n",
      "The resulting vector of weights is [0.08808681, 0.1016884, 0.07036441, 0.0701263, 0.06711546, 0.06468246, 0.06955364, 0.06820497, 0.09500403, 0.1180534, 0.11780698, 0.04559145, -0.04058906, 0.06917199, 0.0693665, 0.09624333]\n"
     ]
    }
   ],
   "source": [
    "print(f\"The cost after training is {J:.8f}.\")\n",
    "print(f\"The resulting vector of weights is {[round(t, 8) for t in np.squeeze(theta)]}\")"
   ]
  },
  {
   "cell_type": "code",
   "execution_count": 57,
   "metadata": {},
   "outputs": [],
   "source": []
  },
  {
   "cell_type": "code",
   "execution_count": 59,
   "metadata": {},
   "outputs": [],
   "source": []
  },
  {
   "cell_type": "code",
   "execution_count": 60,
   "metadata": {},
   "outputs": [],
   "source": []
  },
  {
   "cell_type": "code",
   "execution_count": 61,
   "metadata": {},
   "outputs": [
    {
     "name": "stdout",
     "output_type": "stream",
     "text": [
      "[array([0.08808681, 0.1016884 ]), array([0.07036441, 0.0701263 , 0.06711546, 0.06468246]), array([0.06955364, 0.06820497]), array([0.09500403, 0.1180534 , 0.11780698]), array([ 0.04559145, -0.04058906]), array([0.06917199]), array([0.0693665 , 0.09624333])]\n"
     ]
    }
   ],
   "source": []
  },
  {
   "cell_type": "code",
   "execution_count": 62,
   "metadata": {},
   "outputs": [],
   "source": []
  },
  {
   "cell_type": "code",
   "execution_count": 63,
   "metadata": {},
   "outputs": [],
   "source": []
  },
  {
   "cell_type": "code",
   "execution_count": 64,
   "metadata": {},
   "outputs": [
    {
     "data": {
      "text/plain": [
       "array([0.16213576, 0.23263166, 0.11769501, 0.28267628, 0.00427382,\n",
       "       0.05909756, 0.1414899 ])"
      ]
     },
     "execution_count": 64,
     "metadata": {},
     "output_type": "execute_result"
    }
   ],
   "source": []
  },
  {
   "cell_type": "code",
   "execution_count": 65,
   "metadata": {},
   "outputs": [
    {
     "data": {
      "text/plain": [
       "[array([0.46416396, 0.53583604]),\n",
       " array([0.25841845, 0.257544  , 0.24648647, 0.23755108]),\n",
       " array([0.50489503, 0.49510497]),\n",
       " array([0.28713885, 0.35680297, 0.35605819]),\n",
       " array([9.11393943, 8.11393943]),\n",
       " array([1.]),\n",
       " array([0.41885497, 0.58114503])]"
      ]
     },
     "execution_count": 65,
     "metadata": {},
     "output_type": "execute_result"
    }
   ],
   "source": []
  },
  {
   "cell_type": "code",
   "execution_count": 66,
   "metadata": {},
   "outputs": [],
   "source": [
    "# final_b = fn_combined_features(final_b)"
   ]
  },
  {
   "cell_type": "code",
   "execution_count": 67,
   "metadata": {},
   "outputs": [],
   "source": [
    "from collections import defaultdict\n",
    "\n",
    "\n",
    "def check_acc(label, score):\n",
    "    if label == 1:\n",
    "        if score >= 300 and score <= 580:\n",
    "            return True\n",
    "        else:\n",
    "            return False\n",
    "    if label == 2:\n",
    "        if score > 580 and score <= 670:\n",
    "            return True\n",
    "        else:\n",
    "            return False\n",
    "    if label == 3:\n",
    "        if score > 670 and score <= 740:\n",
    "            return True\n",
    "        else:\n",
    "            return False\n",
    "    if label == 4:\n",
    "        if score > 740 and score <= 800:\n",
    "            return True\n",
    "        else:\n",
    "            return False\n",
    "    if label == 5:\n",
    "        if score > 800 and score <= 850:\n",
    "            return True\n",
    "        else:\n",
    "            return False\n"
   ]
  },
  {
   "cell_type": "code",
   "execution_count": 68,
   "metadata": {},
   "outputs": [],
   "source": [
    "from function.valuate import valuate"
   ]
  },
  {
   "cell_type": "code",
   "execution_count": 69,
   "metadata": {},
   "outputs": [],
   "source": [
    "accuracy_list = valuate(theta)"
   ]
  },
  {
   "cell_type": "code",
   "execution_count": 70,
   "metadata": {},
   "outputs": [
    {
     "data": {
      "image/png": "[encoded data removed]",
      "text/plain": [
       "<Figure size 640x480 with 1 Axes>"
      ]
     },
     "metadata": {},
     "output_type": "display_data"
    }
   ],
   "source": [
    "import matplotlib.pyplot as plt\n",
    "\n",
    "label_name = ['label_0','label_1', 'label_2','label_3', 'label_4']\n",
    "# accuracy_list = [count[tmp]/count_label[tmp] for tmp in count_label]\n",
    "indices = list(range(1, len(accuracy_list) + 1))\n",
    "\n",
    "# Vẽ biểu đồ cột\n",
    "plt.bar(indices, accuracy_list, color='blue')\n",
    "\n",
    "plt.title('Biểu đồ tỉ lệ gán nhãn đúng')\n",
    "plt.xlabel('Nhãn')\n",
    "plt.ylabel('Giá trị điểm tín dụng')\n",
    "\n",
    "for i, v in enumerate(accuracy_list):\n",
    "    plt.text(i + 1, v + 0.01, f'\\n{v*100:.2f}%', ha='center', va='bottom', color='black')\n",
    "\n",
    "# Đặt nhãn trục x\n",
    "plt.xticks(indices, label_name)\n",
    "plt.grid(True)\n",
    "plt.show()\n"
   ]
  }
 ],
 "metadata": {
  "kernelspec": {
   "display_name": "Python 3",
   "language": "python",
   "name": "python3"
  },
  "language_info": {
   "codemirror_mode": {
    "name": "ipython",
    "version": 3
   },
   "file_extension": ".py",
   "mimetype": "text/x-python",
   "name": "python",
   "nbconvert_exporter": "python",
   "pygments_lexer": "ipython3",
   "version": "3.10.12"
  }
 },
 "nbformat": 4,
 "nbformat_minor": 2
}
