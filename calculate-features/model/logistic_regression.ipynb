{
 "cells": [
  {
   "cell_type": "code",
   "execution_count": 51,
   "metadata": {},
   "outputs": [],
   "source": [
    "import json\n",
    "import numpy as np\n",
    "from sklearn.linear_model import LogisticRegression\n",
    "import csv\n",
    "import pandas as pd\n",
    "from scipy.optimize import minimize"
   ]
  },
  {
   "cell_type": "code",
   "execution_count": 52,
   "metadata": {},
   "outputs": [],
   "source": [
    "# Import from csv\n",
    "with open(f'../export.csv','r') as f:\n",
    "    csvFile = csv.reader(f)\n"
   ]
  },
  {
   "cell_type": "code",
   "execution_count": 53,
   "metadata": {},
   "outputs": [],
   "source": [
    "def transform_x52(value):\n",
    "    return -value\n",
    "\n"
   ]
  },
  {
   "cell_type": "code",
   "execution_count": 54,
   "metadata": {},
   "outputs": [],
   "source": [
    "df = pd.read_csv(f'../export.csv')\n",
    "# Áp dụng hàm biến đổi cho cột x52\n",
    "df['x52'] = df['x52'].apply(transform_x52)\n",
    "X = df[['x11', 'x12', 'x21', 'x22', 'x23', 'x24', 'x31', 'x32', 'x41', 'x42', 'x43', 'x51', 'x52', 'x61', 'x71', 'x72']].values\n",
    "y = df['label'].values\n",
    "\n",
    "Y = np.array([[y[i]/1.0] for i in range(len(y)) ])"
   ]
  },
  {
   "cell_type": "code",
   "execution_count": 55,
   "metadata": {},
   "outputs": [],
   "source": [
    "# clf = LogisticRegression(multi_class='multinomial', random_state=0)\n",
    "# clf.fit(X, y)\n",
    "# theta = clf.coef_\n",
    "# # theta = theta.reshape(-1, 1)"
   ]
  },
  {
   "cell_type": "code",
   "execution_count": 56,
   "metadata": {},
   "outputs": [],
   "source": [
    "def sigmoid(z): \n",
    "    '''\n",
    "    Input:\n",
    "        z: is the input (can be a scalar or an array)\n",
    "    Output:\n",
    "        h: the sigmoid of z\n",
    "    '''   \n",
    "    # calculate the sigmoid of z\n",
    "    h = 1 / (1 + np.exp(-z))\n",
    "    ### END CODE HERE ###\n",
    "    \n",
    "    return h"
   ]
  },
  {
   "cell_type": "code",
   "execution_count": 57,
   "metadata": {},
   "outputs": [],
   "source": [
    "def gradientDescent(x, y, theta, alpha, num_iters, lambda_reg):\n",
    "    m = x.shape[0]\n",
    "    n = x.shape[1]\n",
    "\n",
    "    for i in range(0, num_iters):\n",
    "        z = np.dot(x, theta)\n",
    "        h = sigmoid(z)\n",
    "        # Calculate the regularized cost function\n",
    "        J = -1.0 / m * (np.dot(y.T, np.log(h)) + np.dot((1 - y).T, np.log(1 - h))) + (lambda_reg / (2 * m)) * np.sum(theta[1:]**2)\n",
    "        # Update the weights theta with regularization\n",
    "        gradient = (1 / m) * np.dot(x.T, (h - y))\n",
    "        regularization_term = (lambda_reg / m) * theta\n",
    "        regularization_term[0] = 0  # Exclude regularization for the bias term\n",
    "        theta = theta - alpha * (gradient + regularization_term)\n",
    "    J = float(J)\n",
    "    return J, theta"
   ]
  },
  {
   "cell_type": "code",
   "execution_count": 58,
   "metadata": {},
   "outputs": [
    {
     "data": {
      "text/plain": [
       "array([[300, 300, 690, ..., 300, 300, 690],\n",
       "       [300, 300, 690, ..., 300, 300, 690],\n",
       "       [300, 715, 736, ..., 300, 612, 690],\n",
       "       ...,\n",
       "       [850, 811, 679, ..., 300, 624, 690],\n",
       "       [300, 300, 300, ..., 300, 300, 690],\n",
       "       [850, 807, 300, ..., 300, 624, 690]], dtype=int64)"
      ]
     },
     "execution_count": 58,
     "metadata": {},
     "output_type": "execute_result"
    }
   ],
   "source": [
    "X"
   ]
  },
  {
   "cell_type": "code",
   "execution_count": 59,
   "metadata": {},
   "outputs": [
    {
     "data": {
      "text/plain": [
       "array([[1.],\n",
       "       [1.],\n",
       "       [1.],\n",
       "       ...,\n",
       "       [5.],\n",
       "       [5.],\n",
       "       [5.]])"
      ]
     },
     "execution_count": 59,
     "metadata": {},
     "output_type": "execute_result"
    }
   ],
   "source": [
    "Y"
   ]
  },
  {
   "cell_type": "code",
   "execution_count": 60,
   "metadata": {},
   "outputs": [
    {
     "name": "stderr",
     "output_type": "stream",
     "text": [
      "C:\\Users\\Dao Trong Hoan\\AppData\\Local\\Temp\\ipykernel_18484\\4152779544.py:9: RuntimeWarning: divide by zero encountered in log\n",
      "  J = -1.0 / m * (np.dot(y.T, np.log(h)) + np.dot((1 - y).T, np.log(1 - h))) + (lambda_reg / (2 * m)) * np.sum(theta[1:]**2)\n"
     ]
    }
   ],
   "source": [
    "J, theta = gradientDescent(X, Y, np.zeros((16, 1)), 1e-7, 1000, 0.01)"
   ]
  },
  {
   "cell_type": "code",
   "execution_count": 61,
   "metadata": {},
   "outputs": [
    {
     "name": "stdout",
     "output_type": "stream",
     "text": [
      "The cost after training is nan.\n",
      "The resulting vector of weights is [0.23818733, 0.24347295, 0.17191476, 0.17036356, 0.16362909, 0.15387719, 0.18242584, 0.16606575, 0.25462365, 0.3011736, 0.30096552, 0.08594102, -0.01956624, 0.11404427, 0.17084916, 0.24458981]\n"
     ]
    }
   ],
   "source": [
    "print(f\"The cost after training is {J:.8f}.\")\n",
    "print(f\"The resulting vector of weights is {[round(t, 8) for t in np.squeeze(theta)]}\")"
   ]
  },
  {
   "cell_type": "code",
   "execution_count": 62,
   "metadata": {},
   "outputs": [
    {
     "data": {
      "text/plain": [
       "array([[ 0.23818733],\n",
       "       [ 0.24347295],\n",
       "       [ 0.17191476],\n",
       "       [ 0.17036356],\n",
       "       [ 0.16362909],\n",
       "       [ 0.15387719],\n",
       "       [ 0.18242584],\n",
       "       [ 0.16606575],\n",
       "       [ 0.25462365],\n",
       "       [ 0.3011736 ],\n",
       "       [ 0.30096552],\n",
       "       [ 0.08594102],\n",
       "       [-0.01956624],\n",
       "       [ 0.11404427],\n",
       "       [ 0.17084916],\n",
       "       [ 0.24458981]])"
      ]
     },
     "execution_count": 62,
     "metadata": {},
     "output_type": "execute_result"
    }
   ],
   "source": [
    "theta"
   ]
  },
  {
   "cell_type": "code",
   "execution_count": 63,
   "metadata": {},
   "outputs": [],
   "source": [
    "def calculate_features(sub_features):\n",
    "    sum = sub_features.sum()\n",
    "    b = (1/sum)*sub_features\n",
    "    a = sub_features[0]/b[0]\n",
    "    return(a , b )"
   ]
  },
  {
   "cell_type": "code",
   "execution_count": 64,
   "metadata": {},
   "outputs": [],
   "source": [
    "ab1 = theta[0:2]\n",
    "ab2 = theta[2:6]\n",
    "ab3 = theta[6:8]\n",
    "ab4 = theta[8:11]\n",
    "ab5 = theta[11:13]\n",
    "ab6 = theta[13:14]\n",
    "ab7 = theta[14:16]\n",
    "ab_all = [ab1, ab2, ab3, ab4, ab5, ab6, ab7]\n",
    "final_a = []\n",
    "final_b = []\n",
    "for ab in ab_all:\n",
    "    a, b = calculate_features(ab)\n",
    "    final_a.append(a)\n",
    "    final_b.append(b)\n",
    "    # print(calculate_features(ab))\n",
    "final_b[4][-1]= -final_b[4][-1] \n",
    "final_a = final_a/np.array(final_a).sum()"
   ]
  },
  {
   "cell_type": "code",
   "execution_count": 76,
   "metadata": {},
   "outputs": [
    {
     "name": "stdout",
     "output_type": "stream",
     "text": [
      "[array([[0.23818733],\n",
      "       [0.24347295]]), array([[0.17191476],\n",
      "       [0.17036356],\n",
      "       [0.16362909],\n",
      "       [0.15387719]]), array([[0.18242584],\n",
      "       [0.16606575]]), array([[0.25462365],\n",
      "       [0.3011736 ],\n",
      "       [0.30096552]]), array([[ 0.08594102],\n",
      "       [-0.01956624]]), array([[0.11404427]]), array([[0.17084916],\n",
      "       [0.24458981]])]\n"
     ]
    }
   ],
   "source": [
    "print(ab_all)"
   ]
  },
  {
   "cell_type": "code",
   "execution_count": 65,
   "metadata": {},
   "outputs": [],
   "source": [
    "def fn_combined_features(features):\n",
    "    combined = []\n",
    "    for items in features:\n",
    "        tmp = []\n",
    "        for index, item in enumerate(items):\n",
    "            for _ in item:\n",
    "                tmp.append(_)\n",
    "        combined.append(tmp)\n",
    "    return np.array(combined)"
   ]
  },
  {
   "cell_type": "code",
   "execution_count": 66,
   "metadata": {},
   "outputs": [],
   "source": [
    "def about(value, _min=300, _max=850):\n",
    "    if value < _min:\n",
    "        value = _min\n",
    "    elif value > _max:\n",
    "        value = _max\n",
    "    return int(value) "
   ]
  },
  {
   "cell_type": "code",
   "execution_count": 67,
   "metadata": {},
   "outputs": [
    {
     "data": {
      "text/plain": [
       "[array([[0.49451312],\n",
       "        [0.50548688]]),\n",
       " array([[0.26056194],\n",
       "        [0.25821087],\n",
       "        [0.24800381],\n",
       "        [0.23322338]]),\n",
       " array([[0.52347272],\n",
       "        [0.47652728]]),\n",
       " array([[0.29719271],\n",
       "        [0.35152508],\n",
       "        [0.35128221]]),\n",
       " array([[1.29478434],\n",
       "        [0.29478434]]),\n",
       " array([[1.]]),\n",
       " array([[0.41124971],\n",
       "        [0.58875029]])]"
      ]
     },
     "execution_count": 67,
     "metadata": {},
     "output_type": "execute_result"
    }
   ],
   "source": [
    "final_b"
   ]
  },
  {
   "cell_type": "code",
   "execution_count": 68,
   "metadata": {},
   "outputs": [
    {
     "name": "stderr",
     "output_type": "stream",
     "text": [
      "C:\\Users\\Dao Trong Hoan\\AppData\\Local\\Temp\\ipykernel_18484\\2614134860.py:9: VisibleDeprecationWarning: Creating an ndarray from ragged nested sequences (which is a list-or-tuple of lists-or-tuples-or ndarrays with different lengths or shapes) is deprecated. If you meant to do this, you must specify 'dtype=object' when creating the ndarray.\n",
      "  return np.array(combined)\n"
     ]
    }
   ],
   "source": [
    "final_b = fn_combined_features(final_b)"
   ]
  },
  {
   "cell_type": "code",
   "execution_count": 69,
   "metadata": {},
   "outputs": [],
   "source": [
    "from collections import defaultdict\n",
    "count = defaultdict(int)"
   ]
  },
  {
   "cell_type": "code",
   "execution_count": 70,
   "metadata": {},
   "outputs": [],
   "source": [
    "from collections import defaultdict\n",
    "\n",
    "\n",
    "def check_acc(label, score):\n",
    "    if label == 1:\n",
    "        if score >= 300 and score <= 580:\n",
    "            return True\n",
    "        else:\n",
    "            return False\n",
    "    if label == 2:\n",
    "        if score > 580 and score <= 670:\n",
    "            return True\n",
    "        else:\n",
    "            return False\n",
    "    if label == 3:\n",
    "        if score > 670 and score <= 740:\n",
    "            return True\n",
    "        else:\n",
    "            return False\n",
    "    if label == 4:\n",
    "        if score > 740 and score <= 800:\n",
    "            return True\n",
    "        else:\n",
    "            return False\n",
    "    if label == 5:\n",
    "        if score > 800 and score <= 850:\n",
    "            return True\n",
    "        else:\n",
    "            return False\n"
   ]
  },
  {
   "cell_type": "code",
   "execution_count": 71,
   "metadata": {},
   "outputs": [],
   "source": [
    "def evaluate(matrices, y):\n",
    "    list_score = []\n",
    "    for i in range(len(matrices)):\n",
    "        matric = matrices[i]\n",
    "        # print(final_a[0] * np.dot(final_b[0], matric[0:2]), final_a[1] * np.dot(final_b[1], matric[2:6]), final_a[2] * np.dot(final_b[2], matric[6:8]), final_a[3] * np.dot(final_b[3], matric[8:11]), final_a[4] * about(np.dot(final_b[4], matric[11:13])), final_a[5] * np.dot(final_b[5], matric[13:14]), final_a[6] * np.dot(final_b[6], matric[14:16]))\n",
    "        score = (\n",
    "            final_a[0] * np.dot(final_b[0], matric[0:2])\n",
    "            + final_a[1] * np.dot(final_b[1], matric[2:6])\n",
    "            + final_a[2] * np.dot(final_b[2], matric[6:8])\n",
    "            + final_a[3] * np.dot(final_b[3], matric[8:11])\n",
    "            + final_a[4] * about(np.dot(final_b[4], matric[11:13]))\n",
    "            + final_a[5] * np.dot(final_b[5], matric[13:14])\n",
    "            + final_a[6] * np.dot(final_b[6], matric[14:16])\n",
    "        )\n",
    "        if check_acc(y[i], score):\n",
    "            count[y[i]] += 1"
   ]
  },
  {
   "cell_type": "code",
   "execution_count": 72,
   "metadata": {},
   "outputs": [
    {
     "data": {
      "text/plain": [
       "array([[ 0.23818733],\n",
       "       [ 0.24347295],\n",
       "       [ 0.17191476],\n",
       "       [ 0.17036356],\n",
       "       [ 0.16362909],\n",
       "       [ 0.15387719],\n",
       "       [ 0.18242584],\n",
       "       [ 0.16606575],\n",
       "       [ 0.25462365],\n",
       "       [ 0.3011736 ],\n",
       "       [ 0.30096552],\n",
       "       [ 0.08594102],\n",
       "       [-0.01956624],\n",
       "       [ 0.11404427],\n",
       "       [ 0.17084916],\n",
       "       [ 0.24458981]])"
      ]
     },
     "execution_count": 72,
     "metadata": {},
     "output_type": "execute_result"
    }
   ],
   "source": [
    "evaluate(X,y)\n",
    "theta"
   ]
  },
  {
   "cell_type": "code",
   "execution_count": 73,
   "metadata": {},
   "outputs": [
    {
     "data": {
      "text/plain": [
       "defaultdict(int, {1: 219, 2: 50, 4: 4})"
      ]
     },
     "execution_count": 73,
     "metadata": {},
     "output_type": "execute_result"
    }
   ],
   "source": [
    "count"
   ]
  },
  {
   "cell_type": "code",
   "execution_count": 74,
   "metadata": {},
   "outputs": [],
   "source": [
    "count_label = {}\n",
    "# Đếm số lần xuất hiện của mỗi label trong y\n",
    "for label in y:\n",
    "    if label in count_label:\n",
    "        count_label[label] += 1\n",
    "    else:\n",
    "        count_label[label] = 1\n",
    "\n",
    "# In từ điển count_label"
   ]
  },
  {
   "cell_type": "code",
   "execution_count": 75,
   "metadata": {},
   "outputs": [
    {
     "data": {
      "image/png": "[encoded data removed]",
      "text/plain": [
       "<Figure size 640x480 with 1 Axes>"
      ]
     },
     "metadata": {},
     "output_type": "display_data"
    }
   ],
   "source": [
    "import matplotlib.pyplot as plt\n",
    "\n",
    "label_name = ['label_1', 'label_2', 'label_4', 'label_5']\n",
    "accuracy_list = [count[tmp]/count_label[tmp] for tmp in count_label]\n",
    "\n",
    "# Tạo danh sách chỉ số từ 1 đến độ dài của mảng\n",
    "indices = list(range(1, len(accuracy_list) + 1))\n",
    "\n",
    "# Vẽ biểu đồ cột\n",
    "plt.bar(indices, accuracy_list, color='blue')\n",
    "\n",
    "plt.title('Biểu đồ tỉ lệ gán nhãn đúng')\n",
    "plt.xlabel('Nhãn')\n",
    "plt.ylabel('Giá trị điểm tín dụng')\n",
    "\n",
    "# Hiển thị giá trị trực tiếp trên đỉnh của mỗi cột với tên nhãn\n",
    "for i, v in enumerate(accuracy_list):\n",
    "    plt.text(i + 1, v + 0.01, f'\\n{v*100:.2f}%', ha='center', va='bottom', color='black')\n",
    "\n",
    "# Đặt nhãn trục x\n",
    "plt.xticks(indices, label_name)\n",
    "\n",
    "plt.grid(True)\n",
    "plt.show()\n"
   ]
  }
 ],
 "metadata": {
  "kernelspec": {
   "display_name": "Python 3",
   "language": "python",
   "name": "python3"
  },
  "language_info": {
   "codemirror_mode": {
    "name": "ipython",
    "version": 3
   },
   "file_extension": ".py",
   "mimetype": "text/x-python",
   "name": "python",
   "nbconvert_exporter": "python",
   "pygments_lexer": "ipython3",
   "version": "3.11.2"
  }
 },
 "nbformat": 4,
 "nbformat_minor": 2
}
