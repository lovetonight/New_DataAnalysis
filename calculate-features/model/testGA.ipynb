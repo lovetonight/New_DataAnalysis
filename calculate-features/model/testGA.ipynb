{
 "cells": [
  {
   "cell_type": "code",
   "execution_count": 16,
   "metadata": {},
   "outputs": [],
   "source": [
    "import random\n",
    "import numpy as np\n",
    "import pandas as pd\n",
    "from function.valuate import *\n",
    "from function.normalize import *\n",
    "from function.crossover import *"
   ]
  },
  {
   "cell_type": "code",
   "execution_count": 17,
   "metadata": {},
   "outputs": [],
   "source": [
    "def normalize_theta(theta):\n",
    "    return theta / np.sum(theta)"
   ]
  },
  {
   "cell_type": "code",
   "execution_count": 18,
   "metadata": {},
   "outputs": [],
   "source": [
    "def transform_x52(value):\n",
    "    return -value"
   ]
  },
  {
   "cell_type": "code",
   "execution_count": 19,
   "metadata": {},
   "outputs": [],
   "source": [
    "\n",
    "def fitness(theta):\n",
    "    normalized_theta = normalize_theta(theta)\n",
    "    accuracy = valuate_f1_score(normalized_theta)\n",
    "    return accuracy\n",
    "    "
   ]
  },
  {
   "cell_type": "code",
   "execution_count": 20,
   "metadata": {},
   "outputs": [],
   "source": [
    "def generate_initial_solutions(num_solutions, num_params):\n",
    "    solutions = []\n",
    "    for _ in range(num_solutions):\n",
    "        solution = np.random.rand(num_params)\n",
    "        solutions.append(tuple(solution))\n",
    "    return solutions\n",
    "\n",
    "\n",
    "def mutate(child, mutation_rate):  # Ham dot bien\n",
    "    mutated_child = tuple([gene * random.uniform(1 - mutation_rate, 1 + mutation_rate) for gene in child])\n",
    "    return mutated_child"
   ]
  },
  {
   "cell_type": "code",
   "execution_count": 21,
   "metadata": {},
   "outputs": [],
   "source": [
    "# Số lượng tham số\n",
    "num_params = 16\n",
    "\n",
    "# Số lượng giải pháp và thế hệ\n",
    "num_solutions = 1000\n",
    "num_generations = 100\n",
    "\n",
    "# Tạo thế hệ ban đầu\n",
    "solutions = generate_initial_solutions(num_solutions, num_params)\n",
    "solutions.append(tuple([3.29901864e-01, 2.77396048e-01, 3.42950455e-04, 6.30279929e-04,\n",
    "       2.82648249e-04, 5.83134623e-04, 5.22615769e-03, 8.12412344e-03,\n",
    "       3.94367592e-03, 2.02455469e-01, 9.16680842e-02, 6.46572894e-04,\n",
    "       6.56377256e-04, 4.83840117e-03, 8.88733040e-03, 6.44168838e-02]))\n"
   ]
  },
  {
   "cell_type": "code",
   "execution_count": 22,
   "metadata": {},
   "outputs": [],
   "source": [
    "for generation_id in range(num_generations):\n",
    "    # print(generation_id)\n",
    "    rankedsolutions = [(fitness(s), s) for s in solutions]\n",
    "    rankedsolutions = sorted(rankedsolutions, key=lambda x: x[0], reverse=True)\n",
    "\n",
    "    # print(f\"=== Gen {generation_id} best solutions ===\")\n",
    "    # print(rankedsolutions[0][0])  # Tìm giải pháp tốt nhất\n",
    "\n",
    "    if rankedsolutions[0][0] >=0.8:\n",
    "        break\n",
    "\n",
    "    bestSolutions = rankedsolutions[:90] + rankedsolutions[-10:]\n",
    "\n",
    "    elements = np.concatenate([np.array(s[1]) for s in bestSolutions])\n",
    "    newGen = []\n",
    "\n",
    "    for _ in range(len(solutions)):\n",
    "        # Crossover\n",
    "        parent1, parent2 = random.choice(bestSolutions)[1], random.choice(bestSolutions)[1]\n",
    "        child = two_point_crossover(parent1, parent2)\n",
    "\n",
    "        # Mutation\n",
    "        mutated_child = mutate(child, mutation_rate=0.01)\n",
    "\n",
    "        # Chuẩn hóa tổng của mutated_child để bằng 1\n",
    "        normalized_mutated_child = normalize_theta(mutated_child)\n",
    "\n",
    "        newGen.append(normalized_mutated_child)\n",
    "\n",
    "    solutions = newGen"
   ]
  },
  {
   "cell_type": "code",
   "execution_count": 23,
   "metadata": {},
   "outputs": [],
   "source": [
    "# print(valuate(solutions[0]))"
   ]
  },
  {
   "cell_type": "code",
   "execution_count": 24,
   "metadata": {},
   "outputs": [
    {
     "data": {
      "text/plain": [
       "array([3.32018210e-01, 2.79254018e-01, 2.27433723e-04, 3.06408387e-04,\n",
       "       1.54354219e-04, 3.62546549e-04, 5.89799465e-03, 8.07119661e-03,\n",
       "       3.84820684e-03, 2.14685650e-01, 7.06922775e-02, 3.66388453e-04,\n",
       "       4.61967056e-04, 4.73281786e-03, 3.46654362e-03, 7.54539865e-02])"
      ]
     },
     "execution_count": 24,
     "metadata": {},
     "output_type": "execute_result"
    }
   ],
   "source": [
    "solutions[0]"
   ]
  },
  {
   "cell_type": "code",
   "execution_count": 25,
   "metadata": {},
   "outputs": [],
   "source": [
    "from function.normalize import normalize_theta"
   ]
  },
  {
   "cell_type": "code",
   "execution_count": 26,
   "metadata": {},
   "outputs": [],
   "source": [
    "a, b = normalize_theta(solutions[0])"
   ]
  },
  {
   "cell_type": "code",
   "execution_count": 27,
   "metadata": {},
   "outputs": [
    {
     "data": {
      "text/plain": [
       "array([0.61127223, 0.00105074, 0.01396919, 0.28922613, 0.00082836,\n",
       "       0.00473282, 0.07892053])"
      ]
     },
     "execution_count": 27,
     "metadata": {},
     "output_type": "execute_result"
    }
   ],
   "source": [
    "a"
   ]
  },
  {
   "cell_type": "code",
   "execution_count": 28,
   "metadata": {},
   "outputs": [
    {
     "data": {
      "text/plain": [
       "[array([0.54315932, 0.45684068]),\n",
       " array([0.21645041, 0.2916112 , 0.14690009, 0.34503831]),\n",
       " array([0.42221447, 0.57778553]),\n",
       " array([0.01330518, 0.74227611, 0.24441871]),\n",
       " array([ 0.44230822, -0.55769178]),\n",
       " array([1.]),\n",
       " array([0.04392448, 0.95607552])]"
      ]
     },
     "execution_count": 28,
     "metadata": {},
     "output_type": "execute_result"
    }
   ],
   "source": [
    "b"
   ]
  },
  {
   "cell_type": "code",
   "execution_count": 29,
   "metadata": {},
   "outputs": [
    {
     "data": {
      "text/plain": [
       "0.7944419938244376"
      ]
     },
     "execution_count": 29,
     "metadata": {},
     "output_type": "execute_result"
    }
   ],
   "source": [
    "np.array(accuracy_all(solutions[0])).mean()"
   ]
  },
  {
   "cell_type": "code",
   "execution_count": 30,
   "metadata": {},
   "outputs": [
    {
     "data": {
      "image/png": "[encoded data removed]",
      "text/plain": [
       "<Figure size 640x480 with 1 Axes>"
      ]
     },
     "metadata": {},
     "output_type": "display_data"
    }
   ],
   "source": [
    "import matplotlib.pyplot as plt\n",
    "\n",
    "label_name = ['label_0','label_1', 'label_2','label_3', 'label_4']\n",
    "accuracy_list = accuracy_all(solutions[0])\n",
    "indices = list(range(1, len(accuracy_list) + 1))\n",
    "\n",
    "# Vẽ biểu đồ cột\n",
    "plt.bar(indices, accuracy_list, color='blue')\n",
    "\n",
    "plt.title('Biểu đồ tỉ lệ gán nhãn đúng')\n",
    "plt.xlabel('Nhãn')\n",
    "plt.ylabel('Giá trị điểm tín dụng')\n",
    "\n",
    "for i, v in enumerate(accuracy_list):\n",
    "    plt.text(i + 1, v + 0.01, f'\\n{v*100:.2f}%', ha='center', va='bottom', color='black')\n",
    "\n",
    "# Đặt nhãn trục x\n",
    "plt.xticks(indices, label_name)\n",
    "plt.grid(True)\n",
    "plt.show()\n"
   ]
  }
 ],
 "metadata": {
  "kernelspec": {
   "display_name": "Python 3",
   "language": "python",
   "name": "python3"
  },
  "language_info": {
   "codemirror_mode": {
    "name": "ipython",
    "version": 3
   },
   "file_extension": ".py",
   "mimetype": "text/x-python",
   "name": "python",
   "nbconvert_exporter": "python",
   "pygments_lexer": "ipython3",
   "version": "3.10.12"
  }
 },
 "nbformat": 4,
 "nbformat_minor": 2
}
