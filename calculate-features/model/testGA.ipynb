{
 "cells": [
  {
   "cell_type": "code",
   "execution_count": 401,
   "metadata": {},
   "outputs": [],
   "source": [
    "import random\n",
    "import numpy as np\n",
    "import pandas as pd"
   ]
  },
  {
   "cell_type": "code",
   "execution_count": 402,
   "metadata": {},
   "outputs": [],
   "source": [
    "def normalize_theta(theta):\n",
    "    # Chuẩn hóa sao cho tổng bằng 1\n",
    "    return theta / np.sum(theta)"
   ]
  },
  {
   "cell_type": "code",
   "execution_count": 403,
   "metadata": {},
   "outputs": [],
   "source": [
    "df = pd.read_csv('../export.csv')\n",
    "filtered_df = df[df['label'] == 1]\n",
    "X = filtered_df[['x11', 'x12', 'x21', 'x22', 'x23', 'x24', 'x31', 'x32', 'x41', 'x42', 'x43', 'x51', 'x52', 'x61', 'x71', 'x72']].values\n",
    "y = filtered_df['label'].values "
   ]
  },
  {
   "cell_type": "code",
   "execution_count": 404,
   "metadata": {},
   "outputs": [],
   "source": [
    "def foo(theta):\n",
    "    # arr = np.array(\n",
    "    #     [[300, 300, 690, 690, 690, 690, 300, 300, 628, 850, 850, 0, 0, 300, 300, 690],\n",
    "    #     [300, 300, 690, 690, 690, 690, 300, 300, 628, 850, 850, 0, 0, 300, 300, 690]]\n",
    "    # )\n",
    "    return np.dot(X, theta)\n",
    "\n",
    "\n",
    "def fitness(theta):\n",
    "    target_value = 500  # Giá trị mục tiêu\n",
    "    lower_bound = 300\n",
    "    upper_bound = 580\n",
    "\n",
    "    normalized_theta = normalize_theta(theta)\n",
    "\n",
    "    ans = foo(normalized_theta)\n",
    "    # # if ans == target_value:\n",
    "    # #     return 9999\n",
    "    # # # el\n",
    "    # if lower_bound <= ans <= upper_bound:\n",
    "    #     return 99999\n",
    "    # else:\n",
    "    #     return abs(1 / (ans - target_value))\n",
    "    for row in ans:\n",
    "        if not (lower_bound <= row <= upper_bound).all():\n",
    "            return abs(1 / (ans.mean() - target_value))\n",
    "\n",
    "    return 99999"
   ]
  },
  {
   "cell_type": "code",
   "execution_count": 405,
   "metadata": {},
   "outputs": [],
   "source": [
    "def generate_initial_solutions(num_solutions, num_params):\n",
    "    solutions = []\n",
    "    for _ in range(num_solutions):\n",
    "        solution = np.random.rand(num_params)\n",
    "        solutions.append(tuple(solution))\n",
    "    return solutions\n",
    "\n",
    "def crossover(parent1, parent2):\n",
    "    crossover_point = random.randint(1, len(parent1) - 1)\n",
    "    child = list(parent1[:crossover_point]) + list(parent2[crossover_point:])\n",
    "    return tuple(child)\n",
    "\n",
    "def mutate(child, mutation_rate):\n",
    "    mutated_child = tuple([gene * random.uniform(1 - mutation_rate, 1 + mutation_rate) for gene in child])\n",
    "    return mutated_child"
   ]
  },
  {
   "cell_type": "code",
   "execution_count": 406,
   "metadata": {},
   "outputs": [],
   "source": [
    "# Số lượng tham số\n",
    "num_params = 16\n",
    "\n",
    "# Số lượng giải pháp và thế hệ\n",
    "num_solutions = 1000\n",
    "num_generations = 1000\n",
    "\n",
    "# Tạo thế hệ ban đầu\n",
    "solutions = generate_initial_solutions(num_solutions, num_params)\n"
   ]
  },
  {
   "cell_type": "code",
   "execution_count": 407,
   "metadata": {},
   "outputs": [
    {
     "name": "stdout",
     "output_type": "stream",
     "text": [
      "=== Gen 0 best solutions ===\n",
      "(6.63682511235788, (0.39360475126889416, 0.519023733518679, 0.10610538503909483, 0.11307595427708006, 0.8897003620132974, 0.46043865163929176, 0.31374619931389025, 0.7394784922873459, 0.8153543158250972, 0.8120536165625312, 0.6145264951469372, 0.5417042681060233, 0.35958076959103247, 0.26126936428395353, 0.44333873305685956, 0.11254330977942562))\n",
      "=== Gen 1 best solutions ===\n",
      "(95.80281723597415, array([0.02099052, 0.01354701, 0.11311502, 0.03816743, 0.06827822,\n",
      "       0.08755834, 0.02033466, 0.06472915, 0.09560716, 0.08224034,\n",
      "       0.02171617, 0.04572653, 0.12040077, 0.0440806 , 0.06656109,\n",
      "       0.09694698]))\n",
      "=== Gen 2 best solutions ===\n",
      "(381.45339630321496, array([0.02016928, 0.04877578, 0.05332007, 0.02585832, 0.10318165,\n",
      "       0.05825122, 0.10516972, 0.03893204, 0.09466738, 0.09643899,\n",
      "       0.00369027, 0.01174356, 0.07801454, 0.05895507, 0.09767347,\n",
      "       0.10515864]))\n",
      "=== Gen 3 best solutions ===\n",
      "(90.2025362321244, array([0.04683425, 0.08564687, 0.03637297, 0.07964728, 0.03475277,\n",
      "       0.09416916, 0.06407886, 0.05162514, 0.08984812, 0.09263935,\n",
      "       0.03941048, 0.05100368, 0.03875278, 0.07361996, 0.06322773,\n",
      "       0.05837058]))\n",
      "=== Gen 4 best solutions ===\n",
      "(138.3249820638681, array([0.04380558, 0.02550949, 0.03040119, 0.08962722, 0.05314018,\n",
      "       0.00013206, 0.12127529, 0.10297752, 0.02084094, 0.12024782,\n",
      "       0.09223857, 0.01234357, 0.00472301, 0.13167717, 0.12647937,\n",
      "       0.02458102]))\n",
      "=== Gen 5 best solutions ===\n",
      "(36.47519377336822, array([0.12823606, 0.00582087, 0.06480058, 0.01988155, 0.12583853,\n",
      "       0.10835989, 0.01742269, 0.09951815, 0.05954669, 0.06634602,\n",
      "       0.05871195, 0.06465176, 0.03900948, 0.03504649, 0.06307995,\n",
      "       0.04372935]))\n",
      "=== Gen 6 best solutions ===\n",
      "(25.243109950788487, array([0.05951561, 0.04313551, 0.08782887, 0.02820015, 0.09146105,\n",
      "       0.03956798, 0.07460455, 0.06028178, 0.05749922, 0.08382904,\n",
      "       0.07885122, 0.06843766, 0.00255045, 0.10150578, 0.09136725,\n",
      "       0.03136387]))\n",
      "=== Gen 7 best solutions ===\n",
      "(150.3144587415249, array([0.0982993 , 0.0407194 , 0.06095926, 0.01870364, 0.1185915 ,\n",
      "       0.10215847, 0.01609378, 0.01457691, 0.10428645, 0.03328781,\n",
      "       0.07592461, 0.09316161, 0.05237164, 0.05192147, 0.04907719,\n",
      "       0.06986695]))\n",
      "=== Gen 8 best solutions ===\n",
      "(427.8412581213299, array([0.07645961, 0.05836503, 0.06271612, 0.01993884, 0.12511014,\n",
      "       0.10724542, 0.01705778, 0.09708909, 0.05992896, 0.06634447,\n",
      "       0.06941436, 0.04593514, 0.07466339, 0.04678343, 0.03020766,\n",
      "       0.04274053]))\n",
      "=== Gen 9 best solutions ===\n",
      "(145.6984467012976, array([0.05922503, 0.02554585, 0.07146907, 0.05491514, 0.10086635,\n",
      "       0.08552384, 0.07150462, 0.01530991, 0.10934622, 0.03553214,\n",
      "       0.08808184, 0.10361975, 0.05344842, 0.05636281, 0.02779658,\n",
      "       0.04145242]))\n",
      "=== Gen 10 best solutions ===\n",
      "(90.39808065978987, array([0.06047613, 0.02658633, 0.07442106, 0.05827036, 0.10409729,\n",
      "       0.08685792, 0.08920801, 0.07285823, 0.04641094, 0.07259837,\n",
      "       0.07279903, 0.04809092, 0.0777531 , 0.04307146, 0.02770305,\n",
      "       0.0387978 ]))\n",
      "=== Gen 11 best solutions ===\n",
      "(15609.880027473631, array([0.06244209, 0.02680899, 0.07457029, 0.05734757, 0.10028548,\n",
      "       0.08027213, 0.06782698, 0.01485447, 0.10676777, 0.03507247,\n",
      "       0.08811466, 0.10137379, 0.05449619, 0.05874603, 0.02708466,\n",
      "       0.04393644]))\n"
     ]
    }
   ],
   "source": [
    "for generation_id in range(num_generations):\n",
    "    rankedsolutions = [(fitness(s), s) for s in solutions]\n",
    "    rankedsolutions.sort(reverse=True)\n",
    "\n",
    "    print(f\"=== Gen {generation_id} best solutions ===\")\n",
    "    print(rankedsolutions[0])  # Tìm giải pháp tốt nhất\n",
    "\n",
    "    if rankedsolutions[0][0] > 9999:\n",
    "        break\n",
    "\n",
    "    bestSolutions = rankedsolutions[:100]\n",
    "    elements = np.concatenate([np.array(s[1]) for s in bestSolutions])\n",
    "    newGen = []\n",
    "\n",
    "    for _ in range(len(solutions)):\n",
    "        # Crossover\n",
    "        parent1, parent2 = random.choice(bestSolutions)[1], random.choice(bestSolutions)[1]\n",
    "        child = crossover(parent1, parent2)\n",
    "\n",
    "        # Mutation\n",
    "        mutated_child = mutate(child, mutation_rate=0.01)\n",
    "\n",
    "        # Chuẩn hóa tổng của mutated_child để bằng 1\n",
    "        normalized_mutated_child = normalize_theta(mutated_child)\n",
    "\n",
    "        newGen.append(normalized_mutated_child)\n",
    "\n",
    "    solutions = newGen"
   ]
  },
  {
   "cell_type": "code",
   "execution_count": 408,
   "metadata": {},
   "outputs": [],
   "source": [
    "theta = normalize_theta(solutions[0])"
   ]
  },
  {
   "cell_type": "code",
   "execution_count": 409,
   "metadata": {},
   "outputs": [
    {
     "name": "stdout",
     "output_type": "stream",
     "text": [
      "[[0.06162281]\n",
      " [0.0270689 ]\n",
      " [0.07369409]\n",
      " [0.05721515]\n",
      " [0.10542227]\n",
      " [0.11251242]\n",
      " [0.01809568]\n",
      " [0.01576472]\n",
      " [0.11488051]\n",
      " [0.03693917]\n",
      " [0.08531804]\n",
      " [0.10232206]\n",
      " [0.05755926]\n",
      " [0.05835274]\n",
      " [0.02759416]\n",
      " [0.04563802]]\n"
     ]
    }
   ],
   "source": [
    "theta = theta.reshape(-1, 1)\n",
    "print(theta)"
   ]
  },
  {
   "cell_type": "code",
   "execution_count": 410,
   "metadata": {},
   "outputs": [],
   "source": [
    "def calculate_features(sub_features):\n",
    "    sum = sub_features.sum()\n",
    "    b = (1/sum)*sub_features\n",
    "    a = sub_features[0]/b[0]\n",
    "    return(a , b )"
   ]
  },
  {
   "cell_type": "code",
   "execution_count": 411,
   "metadata": {},
   "outputs": [],
   "source": [
    "ab1 = theta[0:2]\n",
    "ab2 = theta[2:6]\n",
    "ab3 = theta[6:8]\n",
    "ab4 = theta[8:11]\n",
    "ab5 = theta[11:13]\n",
    "ab6 = theta[13:14]\n",
    "ab7 = theta[14:16]\n",
    "ab_all = [ab1, ab2, ab3, ab4, ab5, ab6, ab7]\n",
    "final_a = []\n",
    "final_b = []\n",
    "for ab in ab_all:\n",
    "    a, b = calculate_features(ab)\n",
    "    final_a.append(a)\n",
    "    final_b.append(b)\n",
    "    # print(calculate_features(ab))\n",
    "final_b[4][-1]= -final_b[4][-1] \n",
    "final_a = final_a/np.array(final_a).sum()"
   ]
  },
  {
   "cell_type": "code",
   "execution_count": 412,
   "metadata": {},
   "outputs": [],
   "source": [
    "def fn_combined_features(features):\n",
    "    combined = []\n",
    "    for items in features:\n",
    "        tmp = []\n",
    "        for index, item in enumerate(items):\n",
    "            for _ in item:\n",
    "                tmp.append(_)\n",
    "        combined.append(tmp)\n",
    "    return np.array(combined)"
   ]
  },
  {
   "cell_type": "code",
   "execution_count": 413,
   "metadata": {},
   "outputs": [],
   "source": [
    "def about(value, _min=300, _max=850):\n",
    "    if value < _min:\n",
    "        value = _min\n",
    "    elif value > _max:\n",
    "        value = _max\n",
    "    return int(value) "
   ]
  },
  {
   "cell_type": "code",
   "execution_count": 414,
   "metadata": {},
   "outputs": [
    {
     "data": {
      "text/plain": [
       "[array([[0.69479787],\n",
       "        [0.30520213]]),\n",
       " array([[0.21125233],\n",
       "        [0.16401362],\n",
       "        [0.30220468],\n",
       "        [0.32252938]]),\n",
       " array([[0.53442018],\n",
       "        [0.46557982]]),\n",
       " array([[0.48444638],\n",
       "        [0.15577096],\n",
       "        [0.35978266]]),\n",
       " array([[ 0.63998758],\n",
       "        [-0.36001242]]),\n",
       " array([[1.]]),\n",
       " array([[0.37680377],\n",
       "        [0.62319623]])]"
      ]
     },
     "execution_count": 414,
     "metadata": {},
     "output_type": "execute_result"
    }
   ],
   "source": [
    "final_b"
   ]
  },
  {
   "cell_type": "code",
   "execution_count": 415,
   "metadata": {},
   "outputs": [
    {
     "name": "stderr",
     "output_type": "stream",
     "text": [
      "C:\\Users\\Dao Trong Hoan\\AppData\\Local\\Temp\\ipykernel_832\\2614134860.py:9: VisibleDeprecationWarning: Creating an ndarray from ragged nested sequences (which is a list-or-tuple of lists-or-tuples-or ndarrays with different lengths or shapes) is deprecated. If you meant to do this, you must specify 'dtype=object' when creating the ndarray.\n",
      "  return np.array(combined)\n"
     ]
    }
   ],
   "source": [
    "final_b = fn_combined_features(final_b)"
   ]
  },
  {
   "cell_type": "code",
   "execution_count": 416,
   "metadata": {},
   "outputs": [],
   "source": [
    "from collections import defaultdict\n",
    "count = defaultdict(int)\n",
    "\n",
    "def check_acc(label, score):\n",
    "    if label == 1:\n",
    "        if score >= 300 and score <= 580:\n",
    "            return True\n",
    "        else:\n",
    "            return False\n",
    "    if label == 2:\n",
    "        if score > 580 and score <= 670:\n",
    "            return True\n",
    "        else:\n",
    "            return False\n",
    "    if label == 3:\n",
    "        if score > 670 and score <= 740:\n",
    "            return True\n",
    "        else:\n",
    "            return False\n",
    "    if label == 4:\n",
    "        if score > 740 and score <= 800:\n",
    "            return True\n",
    "        else:\n",
    "            return False\n",
    "    if label == 5:\n",
    "        if score > 800 and score <= 850:\n",
    "            return True\n",
    "        else:\n",
    "            return False\n"
   ]
  },
  {
   "cell_type": "code",
   "execution_count": 417,
   "metadata": {},
   "outputs": [],
   "source": [
    "def evaluate(matrices, y):\n",
    "    list_score = []\n",
    "    for i in range(len(matrices)):\n",
    "        matric = matrices[i]\n",
    "        # print(final_a[0] * np.dot(final_b[0], matric[0:2]), final_a[1] * np.dot(final_b[1], matric[2:6]), final_a[2] * np.dot(final_b[2], matric[6:8]), final_a[3] * np.dot(final_b[3], matric[8:11]), final_a[4] * about(np.dot(final_b[4], matric[11:13])), final_a[5] * np.dot(final_b[5], matric[13:14]), final_a[6] * np.dot(final_b[6], matric[14:16]))\n",
    "        score = (\n",
    "            final_a[0] * np.dot(final_b[0], matric[0:2])\n",
    "            + final_a[1] * np.dot(final_b[1], matric[2:6])\n",
    "            + final_a[2] * np.dot(final_b[2], matric[6:8])\n",
    "            + final_a[3] * np.dot(final_b[3], matric[8:11])\n",
    "            + final_a[4] * about(np.dot(final_b[4], matric[11:13]))\n",
    "            + final_a[5] * np.dot(final_b[5], matric[13:14])\n",
    "            + final_a[6] * np.dot(final_b[6], matric[14:16])\n",
    "        )\n",
    "        if check_acc(y[i], score):\n",
    "            count[y[i]] += 1"
   ]
  },
  {
   "cell_type": "code",
   "execution_count": 418,
   "metadata": {},
   "outputs": [
    {
     "data": {
      "text/plain": [
       "array([[0.06162281],\n",
       "       [0.0270689 ],\n",
       "       [0.07369409],\n",
       "       [0.05721515],\n",
       "       [0.10542227],\n",
       "       [0.11251242],\n",
       "       [0.01809568],\n",
       "       [0.01576472],\n",
       "       [0.11488051],\n",
       "       [0.03693917],\n",
       "       [0.08531804],\n",
       "       [0.10232206],\n",
       "       [0.05755926],\n",
       "       [0.05835274],\n",
       "       [0.02759416],\n",
       "       [0.04563802]])"
      ]
     },
     "execution_count": 418,
     "metadata": {},
     "output_type": "execute_result"
    }
   ],
   "source": [
    "evaluate(X,y)\n",
    "theta"
   ]
  },
  {
   "cell_type": "code",
   "execution_count": 419,
   "metadata": {},
   "outputs": [],
   "source": [
    "count_label = {}\n",
    "# Đếm số lần xuất hiện của mỗi label trong y\n",
    "for label in y:\n",
    "    if label in count_label:\n",
    "        count_label[label] += 1\n",
    "    else:\n",
    "        count_label[label] = 1\n",
    "\n",
    "# In từ điển count_label"
   ]
  },
  {
   "cell_type": "code",
   "execution_count": 420,
   "metadata": {},
   "outputs": [
    {
     "ename": "ValueError",
     "evalue": "The number of FixedLocator locations (1), usually from a call to set_ticks, does not match the number of labels (4).",
     "output_type": "error",
     "traceback": [
      "\u001b[1;31m---------------------------------------------------------------------------\u001b[0m",
      "\u001b[1;31mValueError\u001b[0m                                Traceback (most recent call last)",
      "\u001b[1;32md:\\Project\\Data-Analysis\\New_DataAnalysis\\calculate-features\\model\\testGA.ipynb Cell 20\u001b[0m line \u001b[0;36m2\n\u001b[0;32m     <a href='vscode-notebook-cell:/d%3A/Project/Data-Analysis/New_DataAnalysis/calculate-features/model/testGA.ipynb#Y100sZmlsZQ%3D%3D?line=17'>18</a>\u001b[0m     plt\u001b[39m.\u001b[39mtext(i \u001b[39m+\u001b[39m \u001b[39m1\u001b[39m, v \u001b[39m+\u001b[39m \u001b[39m0.01\u001b[39m, \u001b[39mf\u001b[39m\u001b[39m'\u001b[39m\u001b[39m\\n\u001b[39;00m\u001b[39m{\u001b[39;00mv\u001b[39m*\u001b[39m\u001b[39m100\u001b[39m\u001b[39m:\u001b[39;00m\u001b[39m.2f\u001b[39m\u001b[39m}\u001b[39;00m\u001b[39m%\u001b[39m\u001b[39m'\u001b[39m, ha\u001b[39m=\u001b[39m\u001b[39m'\u001b[39m\u001b[39mcenter\u001b[39m\u001b[39m'\u001b[39m, va\u001b[39m=\u001b[39m\u001b[39m'\u001b[39m\u001b[39mbottom\u001b[39m\u001b[39m'\u001b[39m, color\u001b[39m=\u001b[39m\u001b[39m'\u001b[39m\u001b[39mblack\u001b[39m\u001b[39m'\u001b[39m)\n\u001b[0;32m     <a href='vscode-notebook-cell:/d%3A/Project/Data-Analysis/New_DataAnalysis/calculate-features/model/testGA.ipynb#Y100sZmlsZQ%3D%3D?line=19'>20</a>\u001b[0m \u001b[39m# Đặt nhãn trục x\u001b[39;00m\n\u001b[1;32m---> <a href='vscode-notebook-cell:/d%3A/Project/Data-Analysis/New_DataAnalysis/calculate-features/model/testGA.ipynb#Y100sZmlsZQ%3D%3D?line=20'>21</a>\u001b[0m plt\u001b[39m.\u001b[39;49mxticks(indices, label_name)\n\u001b[0;32m     <a href='vscode-notebook-cell:/d%3A/Project/Data-Analysis/New_DataAnalysis/calculate-features/model/testGA.ipynb#Y100sZmlsZQ%3D%3D?line=22'>23</a>\u001b[0m plt\u001b[39m.\u001b[39mgrid(\u001b[39mTrue\u001b[39;00m)\n\u001b[0;32m     <a href='vscode-notebook-cell:/d%3A/Project/Data-Analysis/New_DataAnalysis/calculate-features/model/testGA.ipynb#Y100sZmlsZQ%3D%3D?line=23'>24</a>\u001b[0m plt\u001b[39m.\u001b[39mshow()\n",
      "File \u001b[1;32mc:\\Users\\Dao Trong Hoan\\AppData\\Local\\Programs\\Python\\Python311\\Lib\\site-packages\\matplotlib\\pyplot.py:1893\u001b[0m, in \u001b[0;36mxticks\u001b[1;34m(ticks, labels, minor, **kwargs)\u001b[0m\n\u001b[0;32m   1891\u001b[0m         l\u001b[39m.\u001b[39m_internal_update(kwargs)\n\u001b[0;32m   1892\u001b[0m \u001b[39melse\u001b[39;00m:\n\u001b[1;32m-> 1893\u001b[0m     labels \u001b[39m=\u001b[39m ax\u001b[39m.\u001b[39;49mset_xticklabels(labels, minor\u001b[39m=\u001b[39;49mminor, \u001b[39m*\u001b[39;49m\u001b[39m*\u001b[39;49mkwargs)\n\u001b[0;32m   1895\u001b[0m \u001b[39mreturn\u001b[39;00m locs, labels\n",
      "File \u001b[1;32mc:\\Users\\Dao Trong Hoan\\AppData\\Local\\Programs\\Python\\Python311\\Lib\\site-packages\\matplotlib\\axes\\_base.py:74\u001b[0m, in \u001b[0;36m_axis_method_wrapper.__set_name__.<locals>.wrapper\u001b[1;34m(self, *args, **kwargs)\u001b[0m\n\u001b[0;32m     73\u001b[0m \u001b[39mdef\u001b[39;00m \u001b[39mwrapper\u001b[39m(\u001b[39mself\u001b[39m, \u001b[39m*\u001b[39margs, \u001b[39m*\u001b[39m\u001b[39m*\u001b[39mkwargs):\n\u001b[1;32m---> 74\u001b[0m     \u001b[39mreturn\u001b[39;00m get_method(\u001b[39mself\u001b[39;49m)(\u001b[39m*\u001b[39;49margs, \u001b[39m*\u001b[39;49m\u001b[39m*\u001b[39;49mkwargs)\n",
      "File \u001b[1;32mc:\\Users\\Dao Trong Hoan\\AppData\\Local\\Programs\\Python\\Python311\\Lib\\site-packages\\matplotlib\\_api\\deprecation.py:297\u001b[0m, in \u001b[0;36mrename_parameter.<locals>.wrapper\u001b[1;34m(*args, **kwargs)\u001b[0m\n\u001b[0;32m    292\u001b[0m     warn_deprecated(\n\u001b[0;32m    293\u001b[0m         since, message\u001b[39m=\u001b[39m\u001b[39mf\u001b[39m\u001b[39m\"\u001b[39m\u001b[39mThe \u001b[39m\u001b[39m{\u001b[39;00mold\u001b[39m!r}\u001b[39;00m\u001b[39m parameter of \u001b[39m\u001b[39m{\u001b[39;00mfunc\u001b[39m.\u001b[39m\u001b[39m__name__\u001b[39m\u001b[39m}\u001b[39;00m\u001b[39m() \u001b[39m\u001b[39m\"\u001b[39m\n\u001b[0;32m    294\u001b[0m         \u001b[39mf\u001b[39m\u001b[39m\"\u001b[39m\u001b[39mhas been renamed \u001b[39m\u001b[39m{\u001b[39;00mnew\u001b[39m!r}\u001b[39;00m\u001b[39m since Matplotlib \u001b[39m\u001b[39m{\u001b[39;00msince\u001b[39m}\u001b[39;00m\u001b[39m; support \u001b[39m\u001b[39m\"\u001b[39m\n\u001b[0;32m    295\u001b[0m         \u001b[39mf\u001b[39m\u001b[39m\"\u001b[39m\u001b[39mfor the old name will be dropped %(removal)s.\u001b[39m\u001b[39m\"\u001b[39m)\n\u001b[0;32m    296\u001b[0m     kwargs[new] \u001b[39m=\u001b[39m kwargs\u001b[39m.\u001b[39mpop(old)\n\u001b[1;32m--> 297\u001b[0m \u001b[39mreturn\u001b[39;00m func(\u001b[39m*\u001b[39;49margs, \u001b[39m*\u001b[39;49m\u001b[39m*\u001b[39;49mkwargs)\n",
      "File \u001b[1;32mc:\\Users\\Dao Trong Hoan\\AppData\\Local\\Programs\\Python\\Python311\\Lib\\site-packages\\matplotlib\\axis.py:1969\u001b[0m, in \u001b[0;36mAxis.set_ticklabels\u001b[1;34m(self, labels, minor, fontdict, **kwargs)\u001b[0m\n\u001b[0;32m   1965\u001b[0m \u001b[39mif\u001b[39;00m \u001b[39misinstance\u001b[39m(locator, mticker\u001b[39m.\u001b[39mFixedLocator):\n\u001b[0;32m   1966\u001b[0m     \u001b[39m# Passing [] as a list of labels is often used as a way to\u001b[39;00m\n\u001b[0;32m   1967\u001b[0m     \u001b[39m# remove all tick labels, so only error for > 0 labels\u001b[39;00m\n\u001b[0;32m   1968\u001b[0m     \u001b[39mif\u001b[39;00m \u001b[39mlen\u001b[39m(locator\u001b[39m.\u001b[39mlocs) \u001b[39m!=\u001b[39m \u001b[39mlen\u001b[39m(labels) \u001b[39mand\u001b[39;00m \u001b[39mlen\u001b[39m(labels) \u001b[39m!=\u001b[39m \u001b[39m0\u001b[39m:\n\u001b[1;32m-> 1969\u001b[0m         \u001b[39mraise\u001b[39;00m \u001b[39mValueError\u001b[39;00m(\n\u001b[0;32m   1970\u001b[0m             \u001b[39m\"\u001b[39m\u001b[39mThe number of FixedLocator locations\u001b[39m\u001b[39m\"\u001b[39m\n\u001b[0;32m   1971\u001b[0m             \u001b[39mf\u001b[39m\u001b[39m\"\u001b[39m\u001b[39m (\u001b[39m\u001b[39m{\u001b[39;00m\u001b[39mlen\u001b[39m(locator\u001b[39m.\u001b[39mlocs)\u001b[39m}\u001b[39;00m\u001b[39m), usually from a call to\u001b[39m\u001b[39m\"\u001b[39m\n\u001b[0;32m   1972\u001b[0m             \u001b[39m\"\u001b[39m\u001b[39m set_ticks, does not match\u001b[39m\u001b[39m\"\u001b[39m\n\u001b[0;32m   1973\u001b[0m             \u001b[39mf\u001b[39m\u001b[39m\"\u001b[39m\u001b[39m the number of labels (\u001b[39m\u001b[39m{\u001b[39;00m\u001b[39mlen\u001b[39m(labels)\u001b[39m}\u001b[39;00m\u001b[39m).\u001b[39m\u001b[39m\"\u001b[39m)\n\u001b[0;32m   1974\u001b[0m     tickd \u001b[39m=\u001b[39m {loc: lab \u001b[39mfor\u001b[39;00m loc, lab \u001b[39min\u001b[39;00m \u001b[39mzip\u001b[39m(locator\u001b[39m.\u001b[39mlocs, labels)}\n\u001b[0;32m   1975\u001b[0m     func \u001b[39m=\u001b[39m functools\u001b[39m.\u001b[39mpartial(\u001b[39mself\u001b[39m\u001b[39m.\u001b[39m_format_with_dict, tickd)\n",
      "\u001b[1;31mValueError\u001b[0m: The number of FixedLocator locations (1), usually from a call to set_ticks, does not match the number of labels (4)."
     ]
    },
    {
     "data": {
      "image/png": "[encoded data removed]",
      "text/plain": [
       "<Figure size 640x480 with 1 Axes>"
      ]
     },
     "metadata": {},
     "output_type": "display_data"
    }
   ],
   "source": [
    "import matplotlib.pyplot as plt\n",
    "\n",
    "label_name = ['label_1', 'label_2', 'label_4', 'label_5']\n",
    "accuracy_list = [count[tmp]/count_label[tmp] for tmp in count_label]\n",
    "\n",
    "# Tạo danh sách chỉ số từ 1 đến độ dài của mảng\n",
    "indices = list(range(1, len(accuracy_list) + 1))\n",
    "\n",
    "# Vẽ biểu đồ cột\n",
    "plt.bar(indices, accuracy_list, color='blue')\n",
    "\n",
    "plt.title('Biểu đồ tỉ lệ gán nhãn đúng')\n",
    "plt.xlabel('Nhãn')\n",
    "plt.ylabel('Giá trị điểm tín dụng')\n",
    "\n",
    "# Hiển thị giá trị trực tiếp trên đỉnh của mỗi cột với tên nhãn\n",
    "for i, v in enumerate(accuracy_list):\n",
    "    plt.text(i + 1, v + 0.01, f'\\n{v*100:.2f}%', ha='center', va='bottom', color='black')\n",
    "\n",
    "# Đặt nhãn trục x\n",
    "plt.xticks(indices, label_name)\n",
    "\n",
    "plt.grid(True)\n",
    "plt.show()\n"
   ]
  }
 ],
 "metadata": {
  "kernelspec": {
   "display_name": "Python 3",
   "language": "python",
   "name": "python3"
  },
  "language_info": {
   "codemirror_mode": {
    "name": "ipython",
    "version": 3
   },
   "file_extension": ".py",
   "mimetype": "text/x-python",
   "name": "python",
   "nbconvert_exporter": "python",
   "pygments_lexer": "ipython3",
   "version": "3.11.2"
  }
 },
 "nbformat": 4,
 "nbformat_minor": 2
}
