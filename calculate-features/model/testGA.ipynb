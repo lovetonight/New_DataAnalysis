{
 "cells": [
  {
   "cell_type": "code",
   "execution_count": 165,
   "metadata": {},
   "outputs": [],
   "source": [
    "import random\n",
    "import numpy as np\n",
    "import pandas as pd\n",
    "from valuate import valuate"
   ]
  },
  {
   "cell_type": "code",
   "execution_count": 166,
   "metadata": {},
   "outputs": [],
   "source": [
    "def normalize_theta(theta):\n",
    "    # Chuẩn hóa sao cho tổng bằng 1\n",
    "    return theta / np.sum(theta)"
   ]
  },
  {
   "cell_type": "code",
   "execution_count": 167,
   "metadata": {},
   "outputs": [],
   "source": [
    "def transform_x52(value):\n",
    "    return -value"
   ]
  },
  {
   "cell_type": "code",
   "execution_count": 168,
   "metadata": {},
   "outputs": [],
   "source": [
    "df = pd.read_csv('../export.csv')\n",
    "df['x52'] = df['x52'].apply(transform_x52)\n",
    "\n",
    "filtered_df = df[df['label'] == 1]\n",
    "X = filtered_df[['x11', 'x12', 'x21', 'x22', 'x23', 'x24', 'x31', 'x32', 'x41', 'x42', 'x43', 'x51', 'x52', 'x61', 'x71', 'x72']].values\n",
    "y = filtered_df['label'].values "
   ]
  },
  {
   "cell_type": "code",
   "execution_count": 169,
   "metadata": {},
   "outputs": [],
   "source": [
    "filtered_df = df[df['label'] == 2]\n",
    "X2 = filtered_df[['x11', 'x12', 'x21', 'x22', 'x23', 'x24', 'x31', 'x32', 'x41', 'x42', 'x43', 'x51', 'x52', 'x61', 'x71', 'x72']].values"
   ]
  },
  {
   "cell_type": "code",
   "execution_count": 170,
   "metadata": {},
   "outputs": [],
   "source": [
    "def foo(theta):\n",
    "    return np.dot(X, theta)\n",
    "def foo2(theta):\n",
    "    return np.dot(X2, theta)\n",
    "    \n",
    "def fitness(theta):\n",
    "    normalized_theta = normalize_theta(theta)\n",
    "    accuracy_list = valuate(normalized_theta)\n",
    "    accuracy_list = np.array(accuracy_list)\n",
    "    if accuracy_list.mean() > 0.5:\n",
    "        return 1\n",
    "    else:\n",
    "        return accuracy_list.mean()\n",
    "    \n",
    "    # # # if ans == target_value:\n",
    "    # # #     return 9999\n",
    "    # # # # el\n",
    "    # # if lower_bound <= ans <= upper_bound:\n",
    "    # #     return 99999\n",
    "    # # else:\n",
    "    # #     return abs(1 / (ans - target_value))\n",
    "    \n",
    "    # label1 = [300, 500, 580]\n",
    "    # label2 = [580, 620, 670]\n",
    "\n",
    "    # normalized_theta = normalize_theta(theta)\n",
    "\n",
    "    # ans1 = foo(normalized_theta)\n",
    "    # ans2 = foo2(normalized_theta)\n",
    "    # condition1 = np.all((label1[0] <= ans1) & (ans1 <= label1[2]))\n",
    "    # condition2 = np.all((label2[0] <= ans2) & (ans2 <= label2[2]))\n",
    "\n",
    "\n",
    "    # if condition1 and condition2:\n",
    "    #     return 99999\n",
    "    # else:\n",
    "    #     return abs(1 / (ans1.mean() - label1[1] ))\n"
   ]
  },
  {
   "cell_type": "code",
   "execution_count": 171,
   "metadata": {},
   "outputs": [],
   "source": [
    "def generate_initial_solutions(num_solutions, num_params):\n",
    "    solutions = []\n",
    "    for _ in range(num_solutions):\n",
    "        solution = np.random.rand(num_params)\n",
    "        solutions.append(tuple(solution))\n",
    "    return solutions\n",
    "\n",
    "def crossover(parent1, parent2):\n",
    "    crossover_point = random.randint(1, len(parent1) - 1)\n",
    "    child = list(parent1[:crossover_point]) + list(parent2[crossover_point:])\n",
    "    return tuple(child)\n",
    "\n",
    "def mutate(child, mutation_rate):\n",
    "    mutated_child = tuple([gene * random.uniform(1 - mutation_rate, 1 + mutation_rate) for gene in child])\n",
    "    return mutated_child"
   ]
  },
  {
   "cell_type": "code",
   "execution_count": 172,
   "metadata": {},
   "outputs": [],
   "source": [
    "# Số lượng tham số\n",
    "num_params = 16\n",
    "\n",
    "# Số lượng giải pháp và thế hệ\n",
    "num_solutions = 100\n",
    "num_generations = 100\n",
    "\n",
    "# Tạo thế hệ ban đầu\n",
    "solutions = generate_initial_solutions(num_solutions, num_params)\n"
   ]
  },
  {
   "cell_type": "code",
   "execution_count": 173,
   "metadata": {},
   "outputs": [
    {
     "name": "stdout",
     "output_type": "stream",
     "text": [
      "0\n",
      "=== Gen 0 best solutions ===\n",
      "(0.32989910473213013, (0.17785764490001688, 0.6620860712999138, 0.5325683984558894, 0.23286661058586922, 0.12858306975585576, 0.5001169327904538, 0.20753066133441844, 0.3706725547157145, 0.41673769375171643, 0.6052105164466008, 0.9917148155356905, 0.46584204666270745, 0.23174503919138378, 0.027387161198130783, 0.5854683217735419, 0.8627873994300924))\n",
      "1\n",
      "=== Gen 1 best solutions ===\n",
      "(0.356108782151485, array([0.02746335, 0.12185759, 0.03271116, 0.03350436, 0.01870328,\n",
      "       0.07229534, 0.03015932, 0.05344479, 0.06061097, 0.08766875,\n",
      "       0.14522306, 0.06833622, 0.03340576, 0.00396979, 0.08495129,\n",
      "       0.12569496]))\n",
      "2\n",
      "=== Gen 2 best solutions ===\n",
      "(0.35788214674814073, array([0.09557745, 0.10850404, 0.04718739, 0.04740393, 0.04541687,\n",
      "       0.00525301, 0.10331837, 0.1272878 , 0.0152278 , 0.13146296,\n",
      "       0.07552337, 0.0180687 , 0.00133634, 0.01148333, 0.10207261,\n",
      "       0.06487603]))\n",
      "3\n",
      "=== Gen 3 best solutions ===\n",
      "(0.39052973399108115, array([0.03141381, 0.13738091, 0.03686153, 0.03798601, 0.02136221,\n",
      "       0.08340627, 0.03412572, 0.06130398, 0.06760967, 0.10015194,\n",
      "       0.16487164, 0.02043044, 0.00151522, 0.01316767, 0.11495493,\n",
      "       0.07345804]))\n",
      "4\n",
      "=== Gen 4 best solutions ===\n",
      "(0.41886254288556407, array([0.0365462 , 0.16256677, 0.04336967, 0.04416031, 0.05575195,\n",
      "       0.00639797, 0.00599119, 0.01991547, 0.1141887 , 0.16493949,\n",
      "       0.08165075, 0.0238928 , 0.00180563, 0.01584125, 0.13512122,\n",
      "       0.08786063]))\n",
      "5\n",
      "=== Gen 5 best solutions ===\n",
      "(0.46254533858448876, array([0.03942506, 0.17320137, 0.04729709, 0.04788098, 0.02663767,\n",
      "       0.00678834, 0.00649336, 0.0645855 , 0.07107838, 0.10500271,\n",
      "       0.17639852, 0.02160211, 0.0015914 , 0.01390445, 0.12063775,\n",
      "       0.0774753 ]))\n",
      "6\n",
      "=== Gen 6 best solutions ===\n",
      "(0.4743540943448575, array([0.04208982, 0.1866692 , 0.05081296, 0.05167034, 0.02889321,\n",
      "       0.00723747, 0.00701475, 0.02336361, 0.02333045, 0.12002599,\n",
      "       0.19463423, 0.02386897, 0.00176143, 0.01578944, 0.13599473,\n",
      "       0.08684341]))\n",
      "7\n",
      "=== Gen 7 best solutions ===\n",
      "(0.4822293472597224, array([0.04331226, 0.1907757 , 0.05183858, 0.05263069, 0.02985999,\n",
      "       0.00749724, 0.00727   , 0.02413447, 0.02414537, 0.12281945,\n",
      "       0.20093504, 0.02470899, 0.00182095, 0.01609464, 0.12262119,\n",
      "       0.07953544]))\n",
      "8\n",
      "=== Gen 8 best solutions ===\n",
      "(0.4832374117758514, array([0.04292358, 0.18903876, 0.05191487, 0.05224653, 0.02958244,\n",
      "       0.00728425, 0.00717246, 0.02355907, 0.02346825, 0.1221894 ,\n",
      "       0.19794134, 0.02308239, 0.00168987, 0.01472072, 0.13084213,\n",
      "       0.08234392]))\n",
      "9\n",
      "=== Gen 9 best solutions ===\n",
      "(0.48424547629198045, array([0.04221659, 0.18584193, 0.05070153, 0.05080302, 0.02922034,\n",
      "       0.00737138, 0.00717989, 0.02379193, 0.02364235, 0.1232818 ,\n",
      "       0.20028792, 0.02328115, 0.001694  , 0.01496376, 0.13268361,\n",
      "       0.08303879]))\n",
      "10\n"
     ]
    }
   ],
   "source": [
    "for generation_id in range(num_generations):\n",
    "    print(generation_id)\n",
    "    rankedsolutions = [(fitness(s), s) for s in solutions]\n",
    "    rankedsolutions = sorted(rankedsolutions, key=lambda x: x[0], reverse=True)\n",
    "\n",
    "    print(f\"=== Gen {generation_id} best solutions ===\")\n",
    "    print(rankedsolutions[0])  # Tìm giải pháp tốt nhất\n",
    "\n",
    "    if rankedsolutions[0][0] ==1:\n",
    "        break\n",
    "\n",
    "    bestSolutions = rankedsolutions[:10]\n",
    "    elements = np.concatenate([np.array(s[1]) for s in bestSolutions])\n",
    "    newGen = []\n",
    "\n",
    "    for _ in range(len(solutions)):\n",
    "        # Crossover\n",
    "        parent1, parent2 = random.choice(bestSolutions)[1], random.choice(bestSolutions)[1]\n",
    "        child = crossover(parent1, parent2)\n",
    "\n",
    "        # Mutation\n",
    "        mutated_child = mutate(child, mutation_rate=0.01)\n",
    "\n",
    "        # Chuẩn hóa tổng của mutated_child để bằng 1\n",
    "        normalized_mutated_child = normalize_theta(mutated_child)\n",
    "\n",
    "        newGen.append(normalized_mutated_child)\n",
    "\n",
    "    solutions = newGen"
   ]
  },
  {
   "cell_type": "code",
   "execution_count": null,
   "metadata": {},
   "outputs": [],
   "source": [
    "accuracy_list = valuate(solutions[0])"
   ]
  },
  {
   "cell_type": "code",
   "execution_count": null,
   "metadata": {},
   "outputs": [
    {
     "data": {
      "image/png": "[encoded data removed]",
      "text/plain": [
       "<Figure size 640x480 with 1 Axes>"
      ]
     },
     "metadata": {},
     "output_type": "display_data"
    }
   ],
   "source": [
    "import matplotlib.pyplot as plt\n",
    "\n",
    "label_name = ['label_1', 'label_2', 'label_4', 'label_5']\n",
    "accuracy_list = valuate(solutions[0])\n",
    "# Tạo danh sách chỉ số từ 1 đến độ dài của mảng\n",
    "indices = list(range(1, len(accuracy_list) + 1))\n",
    "\n",
    "# Vẽ biểu đồ cột\n",
    "plt.bar(indices, accuracy_list, color='blue')\n",
    "\n",
    "plt.title('Biểu đồ tỉ lệ gán nhãn đúng')\n",
    "plt.xlabel('Nhãn')\n",
    "plt.ylabel('Giá trị điểm tín dụng')\n",
    "\n",
    "# Hiển thị giá trị trực tiếp trên đỉnh của mỗi cột với tên nhãn\n",
    "for i, v in enumerate(accuracy_list):\n",
    "    plt.text(i + 1, v + 0.01, f'\\n{v*100:.2f}%', ha='center', va='bottom', color='black')\n",
    "\n",
    "# Đặt nhãn trục x\n",
    "plt.xticks(indices, label_name)\n",
    "\n",
    "plt.grid(True)\n",
    "plt.show()\n"
   ]
  }
 ],
 "metadata": {
  "kernelspec": {
   "display_name": "Python 3",
   "language": "python",
   "name": "python3"
  },
  "language_info": {
   "codemirror_mode": {
    "name": "ipython",
    "version": 3
   },
   "file_extension": ".py",
   "mimetype": "text/x-python",
   "name": "python",
   "nbconvert_exporter": "python",
   "pygments_lexer": "ipython3",
   "version": "3.11.2"
  }
 },
 "nbformat": 4,
 "nbformat_minor": 2
}
