{
 "cells": [
  {
   "cell_type": "code",
   "execution_count": 406,
   "metadata": {},
   "outputs": [],
   "source": [
    "import random\n",
    "import numpy as np\n",
    "import pandas as pd"
   ]
  },
  {
   "cell_type": "code",
   "execution_count": 407,
   "metadata": {},
   "outputs": [],
   "source": [
    "def normalize_theta(theta):\n",
    "    # Chuẩn hóa sao cho tổng bằng 1\n",
    "    return theta / np.sum(theta)"
   ]
  },
  {
   "cell_type": "code",
   "execution_count": 408,
   "metadata": {},
   "outputs": [],
   "source": [
    "def transform_x52(value):\n",
    "    return -value"
   ]
  },
  {
   "cell_type": "code",
   "execution_count": 409,
   "metadata": {},
   "outputs": [],
   "source": [
    "df = pd.read_csv('../export.csv')\n",
    "df['x52'] = df['x52'].apply(transform_x52)\n",
    "\n",
    "filtered_df = df[df['label'] == 1]\n",
    "X = filtered_df[['x11', 'x12', 'x21', 'x22', 'x23', 'x24', 'x31', 'x32', 'x41', 'x42', 'x43', 'x51', 'x52', 'x61', 'x71', 'x72']].values\n",
    "y = filtered_df['label'].values "
   ]
  },
  {
   "cell_type": "code",
   "execution_count": 410,
   "metadata": {},
   "outputs": [],
   "source": [
    "filtered_df = df[df['label'] == 2]\n",
    "X2 = filtered_df[['x11', 'x12', 'x21', 'x22', 'x23', 'x24', 'x31', 'x32', 'x41', 'x42', 'x43', 'x51', 'x52', 'x61', 'x71', 'x72']].values"
   ]
  },
  {
   "cell_type": "code",
   "execution_count": 411,
   "metadata": {},
   "outputs": [],
   "source": [
    "def foo(theta):\n",
    "    return np.dot(X, theta)\n",
    "def foo2(theta):\n",
    "    return np.dot(X2, theta)\n",
    "    \n",
    "def fitness(theta):\n",
    "    target_value1 = 500 # Giá trị mục tiêu\n",
    "    label1 = [300,500,580]\n",
    "    label2 = [580,620,670]\n",
    "\n",
    "    normalized_theta = normalize_theta(theta)\n",
    "\n",
    "    ans1 = foo(normalized_theta)\n",
    "    ans2 = foo2(normalized_theta)\n",
    "    # # if ans == target_value:\n",
    "    # #     return 9999\n",
    "    # # # el\n",
    "    # if lower_bound <= ans <= upper_bound:\n",
    "    #     return 99999\n",
    "    # else:\n",
    "    #     return abs(1 / (ans - target_value))\n",
    "    condition1 = np.all((label1[0] <= ans1) & (ans1 <= label1[2]))\n",
    "\n",
    "    # Điều kiện kiểm tra cho ans2\n",
    "    condition2 = np.all((label2[0] <= ans2) & (ans2 <= label2[2]))\n",
    "\n",
    "\n",
    "    if condition1 and condition2:\n",
    "        return 99999\n",
    "    elif condition1 or condition2:\n",
    "        return 999\n",
    "    else:\n",
    "        return abs(1 / (ans1.mean() - label1[1] + ans2.mean() - label2[1]))\n"
   ]
  },
  {
   "cell_type": "code",
   "execution_count": 412,
   "metadata": {},
   "outputs": [],
   "source": [
    "def generate_initial_solutions(num_solutions, num_params):\n",
    "    solutions = []\n",
    "    for _ in range(num_solutions):\n",
    "        solution = np.random.rand(num_params)\n",
    "        solutions.append(tuple(solution))\n",
    "    return solutions\n",
    "\n",
    "def crossover(parent1, parent2):\n",
    "    crossover_point = random.randint(1, len(parent1) - 1)\n",
    "    child = list(parent1[:crossover_point]) + list(parent2[crossover_point:])\n",
    "    return tuple(child)\n",
    "\n",
    "def mutate(child, mutation_rate):\n",
    "    mutated_child = tuple([gene * random.uniform(1 - mutation_rate, 1 + mutation_rate) for gene in child])\n",
    "    return mutated_child"
   ]
  },
  {
   "cell_type": "code",
   "execution_count": 413,
   "metadata": {},
   "outputs": [],
   "source": [
    "# Số lượng tham số\n",
    "num_params = 16\n",
    "\n",
    "# Số lượng giải pháp và thế hệ\n",
    "num_solutions = 1000\n",
    "num_generations = 10000\n",
    "\n",
    "# Tạo thế hệ ban đầu\n",
    "solutions = generate_initial_solutions(num_solutions, num_params)\n"
   ]
  },
  {
   "cell_type": "code",
   "execution_count": 414,
   "metadata": {},
   "outputs": [
    {
     "name": "stdout",
     "output_type": "stream",
     "text": [
      "=== Gen 0 best solutions ===\n",
      "(999, (0.9784091400464067, 0.631128061769047, 0.4250236823653768, 0.4049688683971432, 0.4507952944828598, 0.13564928524265973, 0.108901311491727, 0.39184507438481586, 0.3695217574373315, 0.10986560363369857, 0.5176440248795094, 0.5544113258364803, 0.9013883250136939, 0.8990786933597166, 0.45655509902228597, 0.17889521366274896))\n"
     ]
    },
    {
     "ename": "ValueError",
     "evalue": "The truth value of an array with more than one element is ambiguous. Use a.any() or a.all()",
     "output_type": "error",
     "traceback": [
      "\u001b[1;31m---------------------------------------------------------------------------\u001b[0m",
      "\u001b[1;31mValueError\u001b[0m                                Traceback (most recent call last)",
      "\u001b[1;32md:\\Project\\Data-Analysis\\New_DataAnalysis\\calculate-features\\model\\testGA.ipynb Cell 9\u001b[0m line \u001b[0;36m3\n\u001b[0;32m      <a href='vscode-notebook-cell:/d%3A/Project/Data-Analysis/New_DataAnalysis/calculate-features/model/testGA.ipynb#W6sZmlsZQ%3D%3D?line=0'>1</a>\u001b[0m \u001b[39mfor\u001b[39;00m generation_id \u001b[39min\u001b[39;00m \u001b[39mrange\u001b[39m(num_generations):\n\u001b[0;32m      <a href='vscode-notebook-cell:/d%3A/Project/Data-Analysis/New_DataAnalysis/calculate-features/model/testGA.ipynb#W6sZmlsZQ%3D%3D?line=1'>2</a>\u001b[0m     rankedsolutions \u001b[39m=\u001b[39m [(fitness(s), s) \u001b[39mfor\u001b[39;00m s \u001b[39min\u001b[39;00m solutions]\n\u001b[1;32m----> <a href='vscode-notebook-cell:/d%3A/Project/Data-Analysis/New_DataAnalysis/calculate-features/model/testGA.ipynb#W6sZmlsZQ%3D%3D?line=2'>3</a>\u001b[0m     rankedsolutions\u001b[39m.\u001b[39;49msort(reverse\u001b[39m=\u001b[39;49m\u001b[39mTrue\u001b[39;49;00m)\n\u001b[0;32m      <a href='vscode-notebook-cell:/d%3A/Project/Data-Analysis/New_DataAnalysis/calculate-features/model/testGA.ipynb#W6sZmlsZQ%3D%3D?line=4'>5</a>\u001b[0m     \u001b[39mprint\u001b[39m(\u001b[39mf\u001b[39m\u001b[39m\"\u001b[39m\u001b[39m=== Gen \u001b[39m\u001b[39m{\u001b[39;00mgeneration_id\u001b[39m}\u001b[39;00m\u001b[39m best solutions ===\u001b[39m\u001b[39m\"\u001b[39m)\n\u001b[0;32m      <a href='vscode-notebook-cell:/d%3A/Project/Data-Analysis/New_DataAnalysis/calculate-features/model/testGA.ipynb#W6sZmlsZQ%3D%3D?line=5'>6</a>\u001b[0m     \u001b[39mprint\u001b[39m(rankedsolutions[\u001b[39m0\u001b[39m])  \u001b[39m# Tìm giải pháp tốt nhất\u001b[39;00m\n",
      "\u001b[1;31mValueError\u001b[0m: The truth value of an array with more than one element is ambiguous. Use a.any() or a.all()"
     ]
    }
   ],
   "source": [
    "for generation_id in range(num_generations):\n",
    "    rankedsolutions = [(fitness(s), s) for s in solutions]\n",
    "    rankedsolutions.sort(reverse=True)\n",
    "\n",
    "    print(f\"=== Gen {generation_id} best solutions ===\")\n",
    "    print(rankedsolutions[0])  # Tìm giải pháp tốt nhất\n",
    "\n",
    "    if rankedsolutions[0][0] > 9999:\n",
    "        break\n",
    "\n",
    "    bestSolutions = rankedsolutions[:100]\n",
    "    elements = np.concatenate([np.array(s[1]) for s in bestSolutions])\n",
    "    newGen = []\n",
    "\n",
    "    for _ in range(len(solutions)):\n",
    "        # Crossover\n",
    "        parent1, parent2 = random.choice(bestSolutions)[1], random.choice(bestSolutions)[1]\n",
    "        child = crossover(parent1, parent2)\n",
    "\n",
    "        # Mutation\n",
    "        mutated_child = mutate(child, mutation_rate=0.01)\n",
    "\n",
    "        # Chuẩn hóa tổng của mutated_child để bằng 1\n",
    "        normalized_mutated_child = normalize_theta(mutated_child)\n",
    "\n",
    "        newGen.append(normalized_mutated_child)\n",
    "\n",
    "    solutions = newGen"
   ]
  },
  {
   "cell_type": "code",
   "execution_count": null,
   "metadata": {},
   "outputs": [],
   "source": [
    "theta = normalize_theta(solutions[0])"
   ]
  },
  {
   "cell_type": "code",
   "execution_count": null,
   "metadata": {},
   "outputs": [
    {
     "name": "stdout",
     "output_type": "stream",
     "text": [
      "[[4.66940450e-03]\n",
      " [8.75637708e-02]\n",
      " [6.90368446e-02]\n",
      " [5.57277773e-02]\n",
      " [6.56281146e-02]\n",
      " [6.99095845e-02]\n",
      " [4.15691404e-02]\n",
      " [7.55595457e-02]\n",
      " [7.92552919e-02]\n",
      " [7.98288003e-02]\n",
      " [1.02749810e-01]\n",
      " [9.88872915e-05]\n",
      " [4.43713008e-02]\n",
      " [1.66130617e-02]\n",
      " [1.10744216e-01]\n",
      " [9.66744490e-02]]\n"
     ]
    }
   ],
   "source": [
    "theta = theta.reshape(-1, 1)\n",
    "print(theta)"
   ]
  },
  {
   "cell_type": "code",
   "execution_count": null,
   "metadata": {},
   "outputs": [],
   "source": [
    "def calculate_features(sub_features):\n",
    "    sum = sub_features.sum()\n",
    "    b = (1/sum)*sub_features\n",
    "    a = sub_features[0]/b[0]\n",
    "    return(a , b )"
   ]
  },
  {
   "cell_type": "code",
   "execution_count": null,
   "metadata": {},
   "outputs": [],
   "source": [
    "ab1 = theta[0:2]\n",
    "ab2 = theta[2:6]\n",
    "ab3 = theta[6:8]\n",
    "ab4 = theta[8:11]\n",
    "ab5 = theta[11:13]\n",
    "ab6 = theta[13:14]\n",
    "ab7 = theta[14:16]\n",
    "ab_all = [ab1, ab2, ab3, ab4, ab5, ab6, ab7]\n",
    "final_a = []\n",
    "final_b = []\n",
    "for ab in ab_all:\n",
    "    a, b = calculate_features(ab)\n",
    "    final_a.append(a)\n",
    "    final_b.append(b)\n",
    "    # print(calculate_features(ab))\n",
    "final_b[4][-1]= -final_b[4][-1] \n",
    "final_a = final_a/np.array(final_a).sum()"
   ]
  },
  {
   "cell_type": "code",
   "execution_count": null,
   "metadata": {},
   "outputs": [],
   "source": [
    "def fn_combined_features(features):\n",
    "    combined = []\n",
    "    for items in features:\n",
    "        tmp = []\n",
    "        for index, item in enumerate(items):\n",
    "            for _ in item:\n",
    "                tmp.append(_)\n",
    "        combined.append(tmp)\n",
    "    return np.array(combined)"
   ]
  },
  {
   "cell_type": "code",
   "execution_count": null,
   "metadata": {},
   "outputs": [],
   "source": [
    "def about(value, _min=300, _max=850):\n",
    "    if value < _min:\n",
    "        value = _min\n",
    "    elif value > _max:\n",
    "        value = _max\n",
    "    return int(value) "
   ]
  },
  {
   "cell_type": "code",
   "execution_count": null,
   "metadata": {},
   "outputs": [
    {
     "data": {
      "text/plain": [
       "[array([[0.05062608],\n",
       "        [0.94937392]]),\n",
       " array([[0.26521794],\n",
       "        [0.21408867],\n",
       "        [0.25212266],\n",
       "        [0.26857073]]),\n",
       " array([[0.35490145],\n",
       "        [0.64509855]]),\n",
       " array([[0.30269301],\n",
       "        [0.30488336],\n",
       "        [0.39242363]]),\n",
       " array([[ 0.00222368],\n",
       "        [-0.99777632]]),\n",
       " array([[1.]]),\n",
       " array([[0.53391635],\n",
       "        [0.46608365]])]"
      ]
     },
     "execution_count": 398,
     "metadata": {},
     "output_type": "execute_result"
    }
   ],
   "source": [
    "final_b"
   ]
  },
  {
   "cell_type": "code",
   "execution_count": null,
   "metadata": {},
   "outputs": [
    {
     "name": "stderr",
     "output_type": "stream",
     "text": [
      "C:\\Users\\Dao Trong Hoan\\AppData\\Local\\Temp\\ipykernel_3980\\2614134860.py:9: VisibleDeprecationWarning: Creating an ndarray from ragged nested sequences (which is a list-or-tuple of lists-or-tuples-or ndarrays with different lengths or shapes) is deprecated. If you meant to do this, you must specify 'dtype=object' when creating the ndarray.\n",
      "  return np.array(combined)\n"
     ]
    }
   ],
   "source": [
    "final_b = fn_combined_features(final_b)"
   ]
  },
  {
   "cell_type": "code",
   "execution_count": null,
   "metadata": {},
   "outputs": [],
   "source": [
    "from collections import defaultdict\n",
    "count = defaultdict(int)\n",
    "\n",
    "def check_acc(label, score):\n",
    "    if label == 1:\n",
    "        if score >= 300 and score <= 580:\n",
    "            return True\n",
    "        else:\n",
    "            return False\n",
    "    if label == 2:\n",
    "        if score > 580 and score <= 670:\n",
    "            return True\n",
    "        else:\n",
    "            return False\n",
    "    if label == 3:\n",
    "        if score > 670 and score <= 740:\n",
    "            return True\n",
    "        else:\n",
    "            return False\n",
    "    if label == 4:\n",
    "        if score > 740 and score <= 800:\n",
    "            return True\n",
    "        else:\n",
    "            return False\n",
    "    if label == 5:\n",
    "        if score > 800 and score <= 850:\n",
    "            return True\n",
    "        else:\n",
    "            return False\n"
   ]
  },
  {
   "cell_type": "code",
   "execution_count": null,
   "metadata": {},
   "outputs": [],
   "source": [
    "def evaluate(matrices, y):\n",
    "    list_score = []\n",
    "    for i in range(len(matrices)):\n",
    "        matric = matrices[i]\n",
    "        # print(final_a[0] * np.dot(final_b[0], matric[0:2]), final_a[1] * np.dot(final_b[1], matric[2:6]), final_a[2] * np.dot(final_b[2], matric[6:8]), final_a[3] * np.dot(final_b[3], matric[8:11]), final_a[4] * about(np.dot(final_b[4], matric[11:13])), final_a[5] * np.dot(final_b[5], matric[13:14]), final_a[6] * np.dot(final_b[6], matric[14:16]))\n",
    "        score = (\n",
    "            final_a[0] * np.dot(final_b[0], matric[0:2])\n",
    "            + final_a[1] * np.dot(final_b[1], matric[2:6])\n",
    "            + final_a[2] * np.dot(final_b[2], matric[6:8])\n",
    "            + final_a[3] * np.dot(final_b[3], matric[8:11])\n",
    "            + final_a[4] * about(np.dot(final_b[4], matric[11:13]))\n",
    "            + final_a[5] * np.dot(final_b[5], matric[13:14])\n",
    "            + final_a[6] * np.dot(final_b[6], matric[14:16])\n",
    "        )\n",
    "        if check_acc(y[i], score):\n",
    "            count[y[i]] += 1"
   ]
  },
  {
   "cell_type": "code",
   "execution_count": null,
   "metadata": {},
   "outputs": [],
   "source": [
    "df = pd.read_csv(f'../export.csv')\n",
    "X = df[['x11', 'x12', 'x21', 'x22', 'x23', 'x24', 'x31', 'x32', 'x41', 'x42', 'x43', 'x51', 'x52', 'x61', 'x71', 'x72']].values\n",
    "y = df['label'].values"
   ]
  },
  {
   "cell_type": "code",
   "execution_count": null,
   "metadata": {},
   "outputs": [
    {
     "data": {
      "text/plain": [
       "array([[4.66940450e-03],\n",
       "       [8.75637708e-02],\n",
       "       [6.90368446e-02],\n",
       "       [5.57277773e-02],\n",
       "       [6.56281146e-02],\n",
       "       [6.99095845e-02],\n",
       "       [4.15691404e-02],\n",
       "       [7.55595457e-02],\n",
       "       [7.92552919e-02],\n",
       "       [7.98288003e-02],\n",
       "       [1.02749810e-01],\n",
       "       [9.88872915e-05],\n",
       "       [4.43713008e-02],\n",
       "       [1.66130617e-02],\n",
       "       [1.10744216e-01],\n",
       "       [9.66744490e-02]])"
      ]
     },
     "execution_count": 403,
     "metadata": {},
     "output_type": "execute_result"
    }
   ],
   "source": [
    "evaluate(X,y)\n",
    "theta"
   ]
  },
  {
   "cell_type": "code",
   "execution_count": null,
   "metadata": {},
   "outputs": [],
   "source": [
    "count_label = {}\n",
    "# Đếm số lần xuất hiện của mỗi label trong y\n",
    "for label in y:\n",
    "    if label in count_label:\n",
    "        count_label[label] += 1\n",
    "    else:\n",
    "        count_label[label] = 1\n",
    "\n",
    "# In từ điển count_label"
   ]
  },
  {
   "cell_type": "code",
   "execution_count": null,
   "metadata": {},
   "outputs": [
    {
     "data": {
      "image/png": "[encoded data removed]",
      "text/plain": [
       "<Figure size 640x480 with 1 Axes>"
      ]
     },
     "metadata": {},
     "output_type": "display_data"
    }
   ],
   "source": [
    "import matplotlib.pyplot as plt\n",
    "\n",
    "label_name = ['label_1', 'label_2', 'label_4', 'label_5']\n",
    "accuracy_list = [count[tmp]/count_label[tmp] for tmp in count_label]\n",
    "\n",
    "# Tạo danh sách chỉ số từ 1 đến độ dài của mảng\n",
    "indices = list(range(1, len(accuracy_list) + 1))\n",
    "\n",
    "# Vẽ biểu đồ cột\n",
    "plt.bar(indices, accuracy_list, color='blue')\n",
    "\n",
    "plt.title('Biểu đồ tỉ lệ gán nhãn đúng')\n",
    "plt.xlabel('Nhãn')\n",
    "plt.ylabel('Giá trị điểm tín dụng')\n",
    "\n",
    "# Hiển thị giá trị trực tiếp trên đỉnh của mỗi cột với tên nhãn\n",
    "for i, v in enumerate(accuracy_list):\n",
    "    plt.text(i + 1, v + 0.01, f'\\n{v*100:.2f}%', ha='center', va='bottom', color='black')\n",
    "\n",
    "# Đặt nhãn trục x\n",
    "plt.xticks(indices, label_name)\n",
    "\n",
    "plt.grid(True)\n",
    "plt.show()\n"
   ]
  }
 ],
 "metadata": {
  "kernelspec": {
   "display_name": "Python 3",
   "language": "python",
   "name": "python3"
  },
  "language_info": {
   "codemirror_mode": {
    "name": "ipython",
    "version": 3
   },
   "file_extension": ".py",
   "mimetype": "text/x-python",
   "name": "python",
   "nbconvert_exporter": "python",
   "pygments_lexer": "ipython3",
   "version": "3.11.2"
  }
 },
 "nbformat": 4,
 "nbformat_minor": 2
}
