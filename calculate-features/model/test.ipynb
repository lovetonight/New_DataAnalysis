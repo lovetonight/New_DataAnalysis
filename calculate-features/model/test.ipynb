{
 "cells": [
  {
   "cell_type": "code",
   "execution_count": 8,
   "metadata": {},
   "outputs": [],
   "source": [
    "import numpy as np\n",
    "import matplotlib.pyplot as plt\n",
    "from PIL import Image\n",
    "import pathlib\n",
    "# from data import get_mnist\n",
    "import pandas as pd\n",
    "from sklearn.model_selection import train_test_split\n"
   ]
  },
  {
   "cell_type": "code",
   "execution_count": 38,
   "metadata": {},
   "outputs": [],
   "source": [
    "df = pd.read_csv(f'../export.csv')\n",
    "X = df[['x11', 'x12', 'x21', 'x22', 'x23', 'x24', 'x31', 'x32', 'x41', 'x42', 'x43', 'x51', 'x52', 'x61', 'x71', 'x72']].values\n",
    "y = df['label'].values\n"
   ]
  },
  {
   "cell_type": "code",
   "execution_count": 39,
   "metadata": {},
   "outputs": [],
   "source": [
    "X_train, X_test, y_train, y_test = train_test_split(X, y, test_size=0.2, random_state=42)\n"
   ]
  },
  {
   "cell_type": "code",
   "execution_count": 44,
   "metadata": {},
   "outputs": [],
   "source": [
    "w_i_h = np.random.uniform(0, 1, (10, 16))\n",
    "w_h_o = np.random.uniform(0, 1, (5, 10))"
   ]
  },
  {
   "cell_type": "code",
   "execution_count": 45,
   "metadata": {},
   "outputs": [],
   "source": [
    "learn_rate = 0.01\n",
    "nr_correct = 0\n",
    "epochs = 3"
   ]
  },
  {
   "cell_type": "code",
   "execution_count": 54,
   "metadata": {},
   "outputs": [
    {
     "name": "stdout",
     "output_type": "stream",
     "text": [
      "(5,) (10,)\n"
     ]
    },
    {
     "ename": "ValueError",
     "evalue": "matmul: Input operand 1 has a mismatch in its core dimension 0, with gufunc signature (n?,k),(k,m?)->(n?,m?) (size 10 is different from 5)",
     "output_type": "error",
     "traceback": [
      "\u001b[1;31m---------------------------------------------------------------------------\u001b[0m",
      "\u001b[1;31mValueError\u001b[0m                                Traceback (most recent call last)",
      "\u001b[1;32md:\\Project\\Data-Analysis\\New_DataAnalysis\\calculate-features\\model\\test.ipynb Cell 6\u001b[0m line \u001b[0;36m1\n\u001b[0;32m     <a href='vscode-notebook-cell:/d%3A/Project/Data-Analysis/New_DataAnalysis/calculate-features/model/test.ipynb#W5sZmlsZQ%3D%3D?line=13'>14</a>\u001b[0m delta_o \u001b[39m=\u001b[39m o \u001b[39m-\u001b[39m l\n\u001b[0;32m     <a href='vscode-notebook-cell:/d%3A/Project/Data-Analysis/New_DataAnalysis/calculate-features/model/test.ipynb#W5sZmlsZQ%3D%3D?line=14'>15</a>\u001b[0m \u001b[39mprint\u001b[39m(delta_o\u001b[39m.\u001b[39mshape, np\u001b[39m.\u001b[39mtranspose(h)\u001b[39m.\u001b[39mshape)\n\u001b[1;32m---> <a href='vscode-notebook-cell:/d%3A/Project/Data-Analysis/New_DataAnalysis/calculate-features/model/test.ipynb#W5sZmlsZQ%3D%3D?line=15'>16</a>\u001b[0m w_h_o \u001b[39m+\u001b[39m\u001b[39m=\u001b[39m \u001b[39m-\u001b[39;49mlearn_rate \u001b[39m*\u001b[39;49m delta_o \u001b[39m@\u001b[39;49m np\u001b[39m.\u001b[39;49mtranspose(h)\n\u001b[0;32m     <a href='vscode-notebook-cell:/d%3A/Project/Data-Analysis/New_DataAnalysis/calculate-features/model/test.ipynb#W5sZmlsZQ%3D%3D?line=16'>17</a>\u001b[0m \u001b[39m# Backpropagation hidden -> input (activation function derivative)\u001b[39;00m\n\u001b[0;32m     <a href='vscode-notebook-cell:/d%3A/Project/Data-Analysis/New_DataAnalysis/calculate-features/model/test.ipynb#W5sZmlsZQ%3D%3D?line=17'>18</a>\u001b[0m delta_h \u001b[39m=\u001b[39m np\u001b[39m.\u001b[39mtranspose(w_h_o) \u001b[39m@\u001b[39m delta_o \u001b[39m*\u001b[39m (h \u001b[39m*\u001b[39m (\u001b[39m1\u001b[39m \u001b[39m-\u001b[39m h))\n",
      "\u001b[1;31mValueError\u001b[0m: matmul: Input operand 1 has a mismatch in its core dimension 0, with gufunc signature (n?,k),(k,m?)->(n?,m?) (size 10 is different from 5)"
     ]
    }
   ],
   "source": [
    "for epoch in range(epochs):\n",
    "    for fea, l in zip(X_train, y_train):\n",
    "        # Forward propagation input -> hidden\n",
    "        h_pre = w_i_h @ fea / 1000\n",
    "        h = 1 / (1 + np.exp(-h_pre))\n",
    "        # Forward propagation hidden -> output\n",
    "        o_pre = w_h_o @ h\n",
    "        o = 1 / (1 + np.exp(-o_pre))\n",
    "        # Cost / Error calculation\n",
    "        e = 1 / len(o) * np.sum((o - l) ** 2, axis=0)\n",
    "        nr_correct += int(np.argmax(o) == np.argmax(l))\n",
    "        \n",
    "        # Backpropagation output -> hidden (cost function derivative)\n",
    "        delta_o = o - l\n",
    "        print(delta_o.shape, np.transpose(h).shape)\n",
    "        w_h_o += -learn_rate * delta_o @ np.transpose(h)\n",
    "        # Backpropagation hidden -> input (activation function derivative)\n",
    "        delta_h = np.transpose(w_h_o) @ delta_o * (h * (1 - h))\n",
    "        w_i_h += -learn_rate * delta_h @ np.transpose(fea)\n",
    " # Show accuracy for this epoch\n",
    "print(f\"Acc: {round((nr_correct / X_train.shape[0]) * 100, 2)}%\")\n",
    "nr_correct = 0"
   ]
  }
 ],
 "metadata": {
  "kernelspec": {
   "display_name": "Python 3",
   "language": "python",
   "name": "python3"
  },
  "language_info": {
   "codemirror_mode": {
    "name": "ipython",
    "version": 3
   },
   "file_extension": ".py",
   "mimetype": "text/x-python",
   "name": "python",
   "nbconvert_exporter": "python",
   "pygments_lexer": "ipython3",
   "version": "3.11.2"
  }
 },
 "nbformat": 4,
 "nbformat_minor": 2
}
