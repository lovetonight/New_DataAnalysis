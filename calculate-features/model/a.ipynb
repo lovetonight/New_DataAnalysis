{
 "cells": [
  {
   "cell_type": "code",
   "execution_count": 7,
   "metadata": {},
   "outputs": [],
   "source": [
    "import pandas as pd\n",
    "df = pd.read_csv('../new_export.csv')\n",
    "# df['x52'] = df['x52'].apply(transform_x52)\n",
    "df_label_5 = df[df[\"label\"] == 5]\n",
    "\n",
    "# Nếu có nhiều hơn 250 phần tử, chỉ lấy 250 phần tử đầu tiên\n",
    "if len(df_label_5) > 250:\n",
    "    df_label_5 = df_label_5.head(250)\n",
    "\n",
    "# Lọc các dòng có giá trị của cột \"label\" khác 5\n",
    "df_other_labels = df[df[\"label\"] != 5]\n",
    "\n",
    "# Kết hợp DataFrame của label 5 và label khác lại\n",
    "result_df = pd.concat([df_label_5, df_other_labels])\n",
    "\n",
    "# Tạo X, y từ DataFrame đã kết hợp\n",
    "X = result_df[\n",
    "    [\n",
    "        \"x11\", \"x12\", \"x21\", \"x22\", \"x23\", \"x24\", \"x31\", \"x32\",\n",
    "        \"x41\", \"x42\", \"x43\", \"x51\", \"x52\", \"x61\", \"x71\", \"x72\",\n",
    "    ]\n",
    "].values\n",
    "\n",
    "y = result_df[\"label\"].values\n",
    "# count = input(X, theta, y)\n",
    "\n",
    "# # df['x52'] = df['x52'].apply(transform_x52)\n",
    "# X = df[\n",
    "#         [\n",
    "#             \"x11\",\n",
    "#             \"x12\",\n",
    "#             \"x21\",\n",
    "#             \"x22\",\n",
    "#             \"x23\",\n",
    "#             \"x24\",\n",
    "#             \"x31\",\n",
    "#             \"x32\",\n",
    "#             \"x41\",\n",
    "#             \"x42\",\n",
    "#             \"x43\",\n",
    "#             \"x51\",\n",
    "#             \"x52\",\n",
    "#             \"x61\",\n",
    "#             \"x71\",\n",
    "#             \"x72\",\n",
    "#         ]\n",
    "#     ].values\n",
    "# y = df[\"label\"].values\n",
    "    \n",
    "\n",
    "count_label = {}\n",
    "# Đếm số lần xuất hiện của mỗi label trong y\n",
    "for label in y:\n",
    "    if label in count_label:\n",
    "        count_label[label] += 1\n",
    "    else:\n",
    "        count_label[label] = 1"
   ]
  },
  {
   "cell_type": "code",
   "execution_count": 8,
   "metadata": {},
   "outputs": [
    {
     "data": {
      "text/plain": [
       "{3: 1036, 0: 72, 4: 1700, 2: 7886, 1: 58}"
      ]
     },
     "execution_count": 8,
     "metadata": {},
     "output_type": "execute_result"
    }
   ],
   "source": [
    "count_label"
   ]
  },
  {
   "cell_type": "code",
   "execution_count": 9,
   "metadata": {},
   "outputs": [],
   "source": [
    "import pandas as pd\n",
    "df = pd.read_csv('../export.csv')\n",
    "X = df[\n",
    "        [\n",
    "            \"x11\",\n",
    "            \"x12\",\n",
    "            \"x21\",\n",
    "            \"x22\",\n",
    "            \"x23\",\n",
    "            \"x24\",\n",
    "            \"x31\",\n",
    "            \"x32\",\n",
    "            \"x41\",\n",
    "            \"x42\",\n",
    "            \"x43\",\n",
    "            \"x51\",\n",
    "            \"x52\",\n",
    "            \"x61\",\n",
    "            \"x71\",\n",
    "            \"x72\",\n",
    "        ]\n",
    "    ].values\n",
    "y = df[\"label\"].values"
   ]
  },
  {
   "cell_type": "code",
   "execution_count": 10,
   "metadata": {},
   "outputs": [],
   "source": [
    "import numpy as np\n",
    "theta = np.random.rand(16)"
   ]
  },
  {
   "cell_type": "code",
   "execution_count": 11,
   "metadata": {},
   "outputs": [
    {
     "name": "stdout",
     "output_type": "stream",
     "text": [
      "[5038.52572257 3711.81211093 5147.79778028 ... 2849.61344754 3724.88695708\n",
      " 3723.30648117]\n"
     ]
    }
   ],
   "source": [
    "print(np.dot(X, theta))"
   ]
  }
 ],
 "metadata": {
  "kernelspec": {
   "display_name": "Python 3",
   "language": "python",
   "name": "python3"
  },
  "language_info": {
   "codemirror_mode": {
    "name": "ipython",
    "version": 3
   },
   "file_extension": ".py",
   "mimetype": "text/x-python",
   "name": "python",
   "nbconvert_exporter": "python",
   "pygments_lexer": "ipython3",
   "version": "3.10.12"
  }
 },
 "nbformat": 4,
 "nbformat_minor": 2
}
