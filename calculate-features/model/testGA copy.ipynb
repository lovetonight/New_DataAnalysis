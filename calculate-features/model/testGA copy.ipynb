{
 "cells": [
  {
   "cell_type": "code",
   "execution_count": 19,
   "metadata": {},
   "outputs": [],
   "source": [
    "import random\n",
    "import numpy as np\n",
    "import pandas as pd\n",
    "from function.valuate import valuate_f1_score, accuracy_all, valuate_precision_score, valuate_fbeta\n",
    "from function.normalize import normalize_theta"
   ]
  },
  {
   "cell_type": "code",
   "execution_count": 20,
   "metadata": {},
   "outputs": [],
   "source": [
    "def normalize_theta(theta):\n",
    "    return theta / np.sum(theta)"
   ]
  },
  {
   "cell_type": "code",
   "execution_count": 21,
   "metadata": {},
   "outputs": [],
   "source": [
    "def transform_x52(value):\n",
    "    return -value"
   ]
  },
  {
   "cell_type": "code",
   "execution_count": 22,
   "metadata": {},
   "outputs": [],
   "source": [
    "\n",
    "def fitness(theta):\n",
    "    normalized_theta = normalize_theta(theta)\n",
    "    accuracy = valuate_f1_score(normalized_theta)\n",
    "    return accuracy"
   ]
  },
  {
   "cell_type": "code",
   "execution_count": 23,
   "metadata": {},
   "outputs": [],
   "source": [
    "def generate_initial_solutions(num_solutions, num_params):\n",
    "    solutions = []\n",
    "    for _ in range(num_solutions):\n",
    "        solution = np.random.rand(num_params)\n",
    "        solutions.append(tuple(solution))\n",
    "    return solutions\n",
    "\n",
    "def crossover(parent1, parent2): # Lai giua bo va me (1 phan cua bo, 1 phan cua me)\n",
    "    crossover_point = random.randint(1, len(parent1) - 1)\n",
    "    child = list(parent1[:crossover_point]) + list(parent2[crossover_point:])\n",
    "    return tuple(child)\n",
    "\n",
    "\n",
    "def mutate(child, mutation_rate):  # Ham dot bien\n",
    "    mutated_child = tuple([gene * random.uniform(1 - mutation_rate, 1 + mutation_rate) for gene in child])\n",
    "    return mutated_child"
   ]
  },
  {
   "cell_type": "code",
   "execution_count": 24,
   "metadata": {},
   "outputs": [],
   "source": [
    "# Số lượng tham số\n",
    "num_params = 16\n",
    "\n",
    "# Số lượng giải pháp và thế hệ\n",
    "num_solutions = 1000\n",
    "num_generations = 100\n",
    "\n",
    "# Tạo thế hệ ban đầu\n",
    "solutions = generate_initial_solutions(num_solutions, num_params)\n"
   ]
  },
  {
   "cell_type": "code",
   "execution_count": 25,
   "metadata": {},
   "outputs": [],
   "source": [
    "for generation_id in range(num_generations):\n",
    "    # print(generation_id)\n",
    "    rankedsolutions = [(fitness(s), s) for s in solutions]\n",
    "    rankedsolutions = sorted(rankedsolutions, key=lambda x: x[0], reverse=True)\n",
    "\n",
    "    # print(f\"=== Gen {generation_id} best solutions ===\")\n",
    "    # print(rankedsolutions[0][0])  # Tìm giải pháp tốt nhất\n",
    "\n",
    "    if rankedsolutions[0][0] ==1:\n",
    "        break\n",
    "\n",
    "    bestSolutions = rankedsolutions[:50]\n",
    "    elements = np.concatenate([np.array(s[1]) for s in bestSolutions])\n",
    "    newGen = []\n",
    "\n",
    "    for _ in range(len(solutions)):\n",
    "        # Crossover\n",
    "        parent1, parent2 = random.choice(bestSolutions)[1], random.choice(bestSolutions)[1]\n",
    "        child = crossover(parent1, parent2)\n",
    "\n",
    "        # Mutation\n",
    "        mutated_child = mutate(child, mutation_rate=0.01)\n",
    "\n",
    "        normalized_mutated_child = normalize_theta(mutated_child)\n",
    "\n",
    "        newGen.append(normalized_mutated_child)\n",
    "\n",
    "    solutions = newGen"
   ]
  },
  {
   "cell_type": "code",
   "execution_count": 30,
   "metadata": {},
   "outputs": [],
   "source": [
    "# accuracy_list = valuate(solutions[0])"
   ]
  },
  {
   "cell_type": "code",
   "execution_count": 31,
   "metadata": {},
   "outputs": [
    {
     "data": {
      "text/plain": [
       "array([0.1053325 , 0.10412798, 0.02198606, 0.00166351, 0.00443775,\n",
       "       0.03165105, 0.01554054, 0.02160065, 0.01693982, 0.13306274,\n",
       "       0.09207292, 0.11539289, 0.05434302, 0.11996171, 0.07757329,\n",
       "       0.08431355])"
      ]
     },
     "execution_count": 31,
     "metadata": {},
     "output_type": "execute_result"
    }
   ],
   "source": [
    "solutions[0]"
   ]
  },
  {
   "cell_type": "code",
   "execution_count": 32,
   "metadata": {},
   "outputs": [
    {
     "data": {
      "text/plain": [
       "0.7424389461442835"
      ]
     },
     "execution_count": 32,
     "metadata": {},
     "output_type": "execute_result"
    }
   ],
   "source": [
    "np.array(accuracy_all(solutions[0])).mean()"
   ]
  },
  {
   "cell_type": "code",
   "execution_count": 33,
   "metadata": {},
   "outputs": [
    {
     "data": {
      "image/png": "[encoded data removed]",
      "text/plain": [
       "<Figure size 640x480 with 1 Axes>"
      ]
     },
     "metadata": {},
     "output_type": "display_data"
    }
   ],
   "source": [
    "import matplotlib.pyplot as plt\n",
    "\n",
    "label_name = ['label_0','label_1', 'label_2','label_3', 'label_4']\n",
    "accuracy_list = accuracy_all(solutions[0])\n",
    "indices = list(range(1, len(accuracy_list) + 1))\n",
    "\n",
    "# Vẽ biểu đồ cột\n",
    "plt.bar(indices, accuracy_list, color='blue')\n",
    "\n",
    "plt.title('Biểu đồ tỉ lệ gán nhãn đúng')\n",
    "plt.xlabel('Nhãn')\n",
    "plt.ylabel('Giá trị điểm tín dụng')\n",
    "\n",
    "for i, v in enumerate(accuracy_list):\n",
    "    plt.text(i + 1, v + 0.01, f'\\n{v*100:.2f}%', ha='center', va='bottom', color='black')\n",
    "\n",
    "# Đặt nhãn trục x\n",
    "plt.xticks(indices, label_name)\n",
    "plt.grid(True)\n",
    "plt.show()\n"
   ]
  }
 ],
 "metadata": {
  "kernelspec": {
   "display_name": "Python 3",
   "language": "python",
   "name": "python3"
  },
  "language_info": {
   "codemirror_mode": {
    "name": "ipython",
    "version": 3
   },
   "file_extension": ".py",
   "mimetype": "text/x-python",
   "name": "python",
   "nbconvert_exporter": "python",
   "pygments_lexer": "ipython3",
   "version": "3.10.12"
  }
 },
 "nbformat": 4,
 "nbformat_minor": 2
}
