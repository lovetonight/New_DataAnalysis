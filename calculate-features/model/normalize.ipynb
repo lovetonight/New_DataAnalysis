{
 "cells": [
  {
   "cell_type": "code",
   "execution_count": 1,
   "metadata": {},
   "outputs": [],
   "source": [
    "import numpy as np"
   ]
  },
  {
   "cell_type": "code",
   "execution_count": 2,
   "metadata": {},
   "outputs": [],
   "source": [
    "theta = np.array([0.09694976, 0.16223152, 0.06048996, 0.09879951, 0.00459131,\n",
    "       0.00465799, 0.02550408, 0.01014306, 0.0793229 , 0.14006818,\n",
    "       0.13161851, 0.0194446 , 0.00573799, 0.13669894, 0.02136491,\n",
    "       0.00237676])"
   ]
  },
  {
   "cell_type": "code",
   "execution_count": 3,
   "metadata": {},
   "outputs": [],
   "source": [
    "def calculate_features(sub_features):\n",
    "    sum = sub_features.sum()\n",
    "    b = (1/sum)*sub_features\n",
    "    a = sub_features[0]/b[0]\n",
    "    return(a , b )"
   ]
  },
  {
   "cell_type": "code",
   "execution_count": 4,
   "metadata": {},
   "outputs": [],
   "source": [
    "ab1 = theta[0:2]\n",
    "ab2 = theta[2:6]\n",
    "ab3 = theta[6:8]\n",
    "ab4 = theta[8:11]\n",
    "ab5 = theta[11:13]\n",
    "ab6 = theta[13:14]\n",
    "ab7 = theta[14:16]\n",
    "ab_all = [ab1, ab2, ab3, ab4, ab5, ab6, ab7]\n",
    "final_a = []\n",
    "final_b = []\n",
    "for ab in ab_all:\n",
    "    a, b = calculate_features(ab)\n",
    "    final_a.append(a)\n",
    "    final_b.append(b)\n",
    "    # print(calculate_features(ab))\n",
    "final_b[4][-1]= -final_b[4][-1] \n",
    "final_a = final_a/np.array(final_a).sum()"
   ]
  },
  {
   "cell_type": "code",
   "execution_count": 5,
   "metadata": {},
   "outputs": [
    {
     "name": "stdout",
     "output_type": "stream",
     "text": [
      "[array([0.09694976, 0.16223152]), array([0.06048996, 0.09879951, 0.00459131, 0.00465799]), array([0.02550408, 0.01014306]), array([0.0793229 , 0.14006818, 0.13161851]), array([0.0194446 , 0.00573799]), array([0.13669894]), array([0.02136491, 0.00237676])]\n"
     ]
    }
   ],
   "source": [
    "print(ab_all)"
   ]
  },
  {
   "cell_type": "code",
   "execution_count": 6,
   "metadata": {},
   "outputs": [],
   "source": [
    "def fn_combined_features(features):\n",
    "    combined = []\n",
    "    for items in features:\n",
    "        tmp = []\n",
    "        for index, item in enumerate(items):\n",
    "            for _ in item:\n",
    "                tmp.append(_)\n",
    "        combined.append(tmp)\n",
    "    # print(combined)\n",
    "    return np.array(combined)"
   ]
  },
  {
   "cell_type": "code",
   "execution_count": 7,
   "metadata": {},
   "outputs": [],
   "source": [
    "def about(value, _min=300, _max=850):\n",
    "    if value < _min:\n",
    "        value = _min\n",
    "    elif value > _max:\n",
    "        value = _max\n",
    "    return int(value) "
   ]
  },
  {
   "cell_type": "code",
   "execution_count": 8,
   "metadata": {},
   "outputs": [
    {
     "data": {
      "text/plain": [
       "array([0.25918129, 0.16853877, 0.03564714, 0.3510096 , 0.02518259,\n",
       "       0.13669894, 0.02374167])"
      ]
     },
     "execution_count": 8,
     "metadata": {},
     "output_type": "execute_result"
    }
   ],
   "source": [
    "final_a"
   ]
  },
  {
   "cell_type": "code",
   "execution_count": 9,
   "metadata": {},
   "outputs": [
    {
     "data": {
      "text/plain": [
       "[array([0.37406158, 0.62593842]),\n",
       " array([0.35890828, 0.58621236, 0.02724186, 0.0276375 ]),\n",
       " array([0.71545936, 0.28454064]),\n",
       " array([0.22598499, 0.39904374, 0.37497127]),\n",
       " array([ 0.77214456, -0.22785544]),\n",
       " array([1.]),\n",
       " array([0.89989078, 0.10010922])]"
      ]
     },
     "execution_count": 9,
     "metadata": {},
     "output_type": "execute_result"
    }
   ],
   "source": [
    "final_b"
   ]
  }
 ],
 "metadata": {
  "kernelspec": {
   "display_name": "Python 3",
   "language": "python",
   "name": "python3"
  },
  "language_info": {
   "codemirror_mode": {
    "name": "ipython",
    "version": 3
   },
   "file_extension": ".py",
   "mimetype": "text/x-python",
   "name": "python",
   "nbconvert_exporter": "python",
   "pygments_lexer": "ipython3",
   "version": "3.10.12"
  }
 },
 "nbformat": 4,
 "nbformat_minor": 2
}
